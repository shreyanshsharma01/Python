{
  "cells": [
    {
      "cell_type": "markdown",
      "metadata": {
        "id": "iWWJ_J0Ua0Yi"
      },
      "source": [
        "## 1. Swap two no.\n"
      ]
    },
    {
      "cell_type": "code",
      "execution_count": null,
      "metadata": {
        "colab": {
          "base_uri": "https://localhost:8080/"
        },
        "id": "8qLZ8HjWanYt",
        "outputId": "bf8b156c-c757-454e-d74e-f8db9ade255f"
      },
      "outputs": [
        {
          "name": "stdout",
          "output_type": "stream",
          "text": [
            "enter a number 5\n",
            "enter a number 8\n",
            "value of no. a = 5 before swapping\n",
            "value of no. b = 8 before swapping\n",
            "value of no. a = 8 after swapping \n",
            "value of no. b = 5 after swapping\n"
          ]
        }
      ],
      "source": [
        "a = int(input(\"enter a number \"))\n",
        "b = int(input(\"enter a number \"))\n",
        "print(f\"value of no. a = {a} before swapping\")\n",
        "print(f\"value of no. b = {b} before swapping\")\n",
        "\n",
        "#Approach 1\n",
        "temp = a\n",
        "a = b\n",
        "b = temp \n",
        "'''\n",
        "# Approach 2 \n",
        "a,b = b,a\n",
        "'''\n",
        "\n",
        "print(f\"value of no. a = {a} after swapping \")\n",
        "print(f\"value of no. b = {b} after swapping\")"
      ]
    },
    {
      "cell_type": "markdown",
      "metadata": {
        "id": "EB58WUeGfNkP"
      },
      "source": [
        "## 2. Prime no or not"
      ]
    },
    {
      "cell_type": "code",
      "execution_count": null,
      "metadata": {
        "colab": {
          "base_uri": "https://localhost:8080/"
        },
        "id": "mi0pCrV7WEzQ",
        "outputId": "bbcb557d-4c72-4434-9ad2-21ca8ec4fb18"
      },
      "outputs": [
        {
          "name": "stdout",
          "output_type": "stream",
          "text": [
            "enter a no. 7\n",
            "7 is prime no.\n"
          ]
        }
      ],
      "source": [
        "num = int(input(\"enter a no. \"))\n",
        "count = 0\n",
        "\n",
        "if num>1:\n",
        "    for i in range(1,num+1):\n",
        "        if num%i == 0:\n",
        "            count = count + 1\n",
        "    if count==2:\n",
        "        print(f\"{num} is prime no.\")\n",
        "    else:\n",
        "        print(f\"{num} is not prime no.\")"
      ]
    },
    {
      "cell_type": "markdown",
      "metadata": {
        "id": "Px_T6HNynBXE"
      },
      "source": [
        "## 3. Factorial of a no.\n",
        "5! = 1 * 2 * 3 * 4 * 5"
      ]
    },
    {
      "cell_type": "markdown",
      "metadata": {
        "id": "x_O44U81kKbq"
      },
      "source": [
        "factorial using loop"
      ]
    },
    {
      "cell_type": "code",
      "execution_count": null,
      "metadata": {
        "colab": {
          "base_uri": "https://localhost:8080/"
        },
        "id": "kTBvpf4MgZEt",
        "outputId": "c3198844-b17a-451b-d783-a82dc6bdef62"
      },
      "outputs": [
        {
          "name": "stdout",
          "output_type": "stream",
          "text": [
            "enter a no. 4\n",
            "Factorial of 4 is 24\n"
          ]
        }
      ],
      "source": [
        "num = int(input(\"enter a no. \"))\n",
        "fact = 1\n",
        "if num<0:\n",
        "    print(\"factorial doesn't exist\")\n",
        "elif num == 0:\n",
        "    print(f\"Factorial of {num} is {fact}\")  \n",
        "\n",
        "else:\n",
        "    for i in range(1,num+1):\n",
        "        fact = i*fact\n",
        "    print(f\"Factorial of {num} is {fact}\")\n",
        "    "
      ]
    },
    {
      "cell_type": "markdown",
      "metadata": {
        "id": "_G8Uyvm2kPo8"
      },
      "source": [
        "factorial using recursion : 5! = 5 * 4 * 3 * 2 * 1"
      ]
    },
    {
      "cell_type": "code",
      "execution_count": null,
      "metadata": {
        "colab": {
          "base_uri": "https://localhost:8080/"
        },
        "id": "cnifHtyZo80s",
        "outputId": "b3274806-ae5a-4dc2-8ca4-46ee305572eb"
      },
      "outputs": [
        {
          "name": "stdout",
          "output_type": "stream",
          "text": [
            "enter a no. 4\n",
            "Factorial of 4 is 24\n"
          ]
        }
      ],
      "source": [
        "num = int(input(\"enter a no. \"))\n",
        "fact = 1\n",
        "\n",
        "def fact(num):\n",
        "    if num<=1:    #base condition\n",
        "        return 1\n",
        "    else:    \n",
        "        return num*fact(num-1)\n",
        "'''\n",
        "or using ternary approach\n",
        "  return 1 if (num == 1 or num ==0) else return num*fact(num-1)\n",
        "'''       \n",
        "\n",
        "print(f\"Factorial of {num} is {fact(num)}\")    "
      ]
    },
    {
      "cell_type": "markdown",
      "metadata": {
        "id": "mrUJcC55yZo1"
      },
      "source": [
        "## 4. Fibonacci series: 0 1 1 2 3 5 8 13 21 ..."
      ]
    },
    {
      "cell_type": "markdown",
      "metadata": {
        "id": "J_0xvO-Rke-s"
      },
      "source": [
        "Approach 1: using loop"
      ]
    },
    {
      "cell_type": "code",
      "execution_count": null,
      "metadata": {
        "colab": {
          "base_uri": "https://localhost:8080/"
        },
        "id": "R41gXUVbvgdw",
        "outputId": "5638cc20-9718-45f4-ada0-f01ad12035bc"
      },
      "outputs": [
        {
          "name": "stdout",
          "output_type": "stream",
          "text": [
            "enter no. of terms for fibonacci series 5\n",
            "0\n",
            "1\n",
            "1\n",
            "2\n",
            "3\n"
          ]
        }
      ],
      "source": [
        "num = int(input(\"enter no. of terms for fibonacci series \"))\n",
        "a=0\n",
        "b=1\n",
        "\n",
        "print(f\"{a}\\n{b}\")\n",
        "for i in range(2,num):\n",
        "    c = a+b\n",
        "    print(f\"{c}\")\n",
        "    a=b\n",
        "    b=c"
      ]
    },
    {
      "cell_type": "markdown",
      "metadata": {
        "id": "yLsIjIDMkjW1"
      },
      "source": [
        "Approach 2: using recursion"
      ]
    },
    {
      "cell_type": "code",
      "execution_count": null,
      "metadata": {
        "colab": {
          "base_uri": "https://localhost:8080/"
        },
        "id": "PsNyRrhbkvIi",
        "outputId": "5ad26049-55f2-423f-d8b7-43aa577c7dc8"
      },
      "outputs": [
        {
          "name": "stdout",
          "output_type": "stream",
          "text": [
            "enter no. of terms for fibonacci series 5\n",
            "Fibonacci term: 3\n",
            "0\n",
            "1\n",
            "1\n",
            "2\n",
            "3\n"
          ]
        }
      ],
      "source": [
        "num = int(input(\"enter no. of terms for fibonacci series \"))\n",
        "first = 0\n",
        "second = 1\n",
        "\n",
        "def fib(num):\n",
        "    if (num == 0):   #base condition \n",
        "        return 0\n",
        "    elif (num == 1): #base condition\n",
        "         return 1 \n",
        "    else:  \n",
        "        return fib(num-1) + fib(num-2)\n",
        "print(f\"Fibonacci term: {fib(num-1)}\")#(num-1) because series starts from 0 so till n-1 just like in range\n",
        "for i in range(0,num):\n",
        "    print(fib(i))"
      ]
    },
    {
      "cell_type": "markdown",
      "metadata": {
        "id": "ZZWYQql25_xk"
      },
      "source": [
        "## 5. Get a list as input from user"
      ]
    },
    {
      "cell_type": "code",
      "execution_count": null,
      "metadata": {
        "colab": {
          "base_uri": "https://localhost:8080/"
        },
        "id": "xFaDZtzV6B1u",
        "outputId": "27000943-3ef2-4a82-ebcb-a2a4928afe8c"
      },
      "outputs": [
        {
          "name": "stdout",
          "output_type": "stream",
          "text": [
            "Enter number of elements : 4\n",
            "2\n",
            "4\n",
            "6\n",
            "8\n",
            "[2, 4, 6, 8]\n"
          ]
        }
      ],
      "source": [
        "# creating an empty list\n",
        "lst = []\n",
        "  \n",
        "# number of elements as input\n",
        "n = int(input(\"Enter number of elements : \"))\n",
        "  \n",
        "# iterating till the range\n",
        "for i in range(0, n):\n",
        "    ele = int(input())\n",
        "    lst.append(ele) # adding the element\n",
        "      \n",
        "print(lst)"
      ]
    },
    {
      "cell_type": "code",
      "execution_count": null,
      "metadata": {
        "colab": {
          "base_uri": "https://localhost:8080/"
        },
        "id": "s2wfaoJ58UKs",
        "outputId": "952c3e12-efef-4052-983c-e43f46fbdd0e"
      },
      "outputs": [
        {
          "name": "stdout",
          "output_type": "stream",
          "text": [
            "enter no. of elements: 5\n",
            "1\n",
            "2\n",
            "3\n",
            "4\n",
            "5\n",
            "[1, 2, 3, 4, 5]\n"
          ]
        }
      ],
      "source": [
        "lst = []\n",
        "n = int(input(\"enter no. of elements: \"))\n",
        "for i in range(0,n):\n",
        "    ele = int(input())\n",
        "    lst.append(ele)\n",
        "print(lst)\n"
      ]
    },
    {
      "cell_type": "markdown",
      "metadata": {
        "id": "ZIaGA0tr3WmS"
      },
      "source": [
        "## 6. Sum of elements of array/list"
      ]
    },
    {
      "cell_type": "markdown",
      "metadata": {
        "id": "ngXMTR9y2BJ4"
      },
      "source": [
        "Approach 1: using loop"
      ]
    },
    {
      "cell_type": "code",
      "execution_count": null,
      "metadata": {
        "colab": {
          "base_uri": "https://localhost:8080/"
        },
        "id": "nQJ_NvyB1Qqw",
        "outputId": "aaf5cbc4-f664-4c84-a4e1-928a72df97ef"
      },
      "outputs": [
        {
          "name": "stdout",
          "output_type": "stream",
          "text": [
            "Sum of elements is 20\n"
          ]
        }
      ],
      "source": [
        "ar1 = [2,4,6,8]\n",
        "sum = 0\n",
        "for i in range(0,len(ar1)):\n",
        "    sum = ar1[i] + sum\n",
        "print(f\"Sum of elements is {sum}\")    "
      ]
    },
    {
      "cell_type": "code",
      "execution_count": null,
      "metadata": {
        "colab": {
          "base_uri": "https://localhost:8080/"
        },
        "id": "Qcycy_qs5Roi",
        "outputId": "0632a38e-c17f-42f5-c923-3bfbd2671733"
      },
      "outputs": [
        {
          "name": "stdout",
          "output_type": "stream",
          "text": [
            "enter no. of elements: 4\n",
            "1\n",
            "2\n",
            "3\n",
            "4\n",
            "Array/list is [1, 2, 3, 4]\n",
            "Sum of elements is 10\n"
          ]
        }
      ],
      "source": [
        "lst = []\n",
        "n = int(input(\"enter no. of elements: \"))\n",
        "for i in range(0,n):\n",
        "    ele = int(input())\n",
        "    lst.append(ele)\n",
        "print(f\"Array/list is {lst}\")\n",
        "sum = 0\n",
        "\n",
        "for i in range(0,n):\n",
        "    sum = lst[i] + sum\n",
        "    \n",
        "print(f\"Sum of elements is {sum}\") "
      ]
    },
    {
      "cell_type": "code",
      "execution_count": null,
      "metadata": {
        "id": "CLHBhg6v1-un"
      },
      "outputs": [],
      "source": []
    },
    {
      "cell_type": "markdown",
      "metadata": {
        "id": "7UA__yilBB1E"
      },
      "source": [
        "## 7. Maximum & Minimum element in an array/list\n",
        "Max"
      ]
    },
    {
      "cell_type": "code",
      "execution_count": null,
      "metadata": {
        "colab": {
          "base_uri": "https://localhost:8080/"
        },
        "id": "PlsbKWTG51Pv",
        "outputId": "85794493-7df4-4e31-fd2f-4ce6864e2857"
      },
      "outputs": [
        {
          "name": "stdout",
          "output_type": "stream",
          "text": [
            "Max element is 15\n"
          ]
        }
      ],
      "source": [
        "arr = [2,4,15,8,3]\n",
        "max = arr[0]\n",
        "\n",
        "for i in range(0,len(arr)):\n",
        "    if arr[i]>max:\n",
        "        max=arr[i]\n",
        "        \n",
        "print(f\"Max element is {max}\")"
      ]
    },
    {
      "cell_type": "markdown",
      "metadata": {
        "id": "QzQPXYY_Xmz9"
      },
      "source": [
        "Min"
      ]
    },
    {
      "cell_type": "code",
      "execution_count": null,
      "metadata": {
        "colab": {
          "base_uri": "https://localhost:8080/"
        },
        "id": "KUReVwoIWOJV",
        "outputId": "bd1b053a-25de-4004-c869-780a0e9d3835"
      },
      "outputs": [
        {
          "name": "stdout",
          "output_type": "stream",
          "text": [
            "Min element is 2\n"
          ]
        }
      ],
      "source": [
        "arr = [2,4,15,8,3]\n",
        "min = arr[0]\n",
        "for i in range(0,len(arr)):\n",
        "    if arr[i]<min:\n",
        "        min=arr[i]\n",
        "print(f\"Min element is {min}\")"
      ]
    },
    {
      "cell_type": "markdown",
      "metadata": {
        "id": "nwiEKjxS92Sg"
      },
      "source": [
        "### Maximum & minimum in a single program"
      ]
    },
    {
      "cell_type": "markdown",
      "metadata": {
        "id": "2VU1GA5a-HNU"
      },
      "source": [
        "Approach 1: using sorting ;\n",
        "sort the list in ascending order and print 1st & last element"
      ]
    },
    {
      "cell_type": "code",
      "execution_count": null,
      "metadata": {
        "colab": {
          "base_uri": "https://localhost:8080/"
        },
        "id": "BXGWt6Wt-FYL",
        "outputId": "27c1fbbc-7b53-44e9-c590-d2c23b681796"
      },
      "outputs": [
        {
          "name": "stdout",
          "output_type": "stream",
          "text": [
            "Min element is 2\n",
            "Max element is 15\n"
          ]
        }
      ],
      "source": [
        "arr = [2,4,15,8,3]\n",
        "arr.sort()   # sorting\n",
        "print(f\"Min element is {arr[0]}\")\n",
        "print(f\"Max element is {arr[-1]}\")"
      ]
    },
    {
      "cell_type": "markdown",
      "metadata": {
        "id": "E6EZQytd_El3"
      },
      "source": [
        "Approach 2: using min() & max() method"
      ]
    },
    {
      "cell_type": "code",
      "execution_count": null,
      "metadata": {
        "colab": {
          "base_uri": "https://localhost:8080/"
        },
        "id": "akB2Br_M_Mkm",
        "outputId": "9ec19bcc-b469-46d9-e3f9-019f9f170fdf"
      },
      "outputs": [
        {
          "name": "stdout",
          "output_type": "stream",
          "text": [
            "Min element is 2\n",
            "Max element is 15\n"
          ]
        }
      ],
      "source": [
        "print(f\"Min element is {min(arr)}\")\n",
        "print(f\"Max element is {max(arr)}\")"
      ]
    },
    {
      "cell_type": "markdown",
      "metadata": {
        "id": "CAdIhrzAYUSS"
      },
      "source": [
        "## 8. Length of a list"
      ]
    },
    {
      "cell_type": "markdown",
      "metadata": {
        "id": "Q__Rb1V7YXOr"
      },
      "source": [
        "approach 1"
      ]
    },
    {
      "cell_type": "code",
      "execution_count": null,
      "metadata": {
        "colab": {
          "base_uri": "https://localhost:8080/"
        },
        "id": "s_AgIYqnXSVS",
        "outputId": "390d6dfe-aaae-4deb-de37-1481b862884d"
      },
      "outputs": [
        {
          "name": "stdout",
          "output_type": "stream",
          "text": [
            "Length of list: 7\n"
          ]
        }
      ],
      "source": [
        "lst = [1,5,6,7,9,4,2]\n",
        "count = 0\n",
        "\n",
        "for i in lst:\n",
        "    count = count + 1\n",
        "    \n",
        "print(f\"Length of list: {count}\")    "
      ]
    },
    {
      "cell_type": "markdown",
      "metadata": {
        "id": "bzGPzhZnZxm1"
      },
      "source": [
        "approach 2: using len() built in function "
      ]
    },
    {
      "cell_type": "code",
      "execution_count": null,
      "metadata": {
        "colab": {
          "base_uri": "https://localhost:8080/"
        },
        "id": "0aHmBRqMY1ag",
        "outputId": "ccde4513-e045-4239-9fdd-603ae9756c96"
      },
      "outputs": [
        {
          "name": "stdout",
          "output_type": "stream",
          "text": [
            "Length of list: 7\n"
          ]
        }
      ],
      "source": [
        "print(f\"Length of list: {len(lst)}\")"
      ]
    },
    {
      "cell_type": "markdown",
      "metadata": {
        "id": "qXeB8kKjaGlc"
      },
      "source": [
        "## 9. Swap first & last element of list/array\n",
        "approach 1 \n"
      ]
    },
    {
      "cell_type": "code",
      "execution_count": null,
      "metadata": {
        "colab": {
          "base_uri": "https://localhost:8080/"
        },
        "id": "8oUsE0-mZ8OK",
        "outputId": "185cb8e8-e8ce-48a8-d83a-85fc556af9b9"
      },
      "outputs": [
        {
          "name": "stdout",
          "output_type": "stream",
          "text": [
            "enter no. of elements: 4\n",
            "1\n",
            "2\n",
            "3\n",
            "4\n",
            "[1, 2, 3, 4]\n",
            "After swapping: [4, 2, 3, 1]\n"
          ]
        }
      ],
      "source": [
        "arr = []\n",
        "n = int(input(\"enter no. of elements: \"))\n",
        "for i in range(0,n):\n",
        "    ele =int(input())\n",
        "    arr.append(ele)\n",
        "print(arr)    \n",
        "temp = 0\n",
        "\n",
        "temp = arr[0]  # index starts from 0\n",
        "arr[0] = arr[n-1]\n",
        "arr[n-1] = temp\n",
        "\n",
        "print(f\"After swapping: {arr}\")"
      ]
    },
    {
      "cell_type": "markdown",
      "metadata": {
        "id": "WB5lvhD9cQSO"
      },
      "source": [
        "approach 2"
      ]
    },
    {
      "cell_type": "code",
      "execution_count": null,
      "metadata": {
        "colab": {
          "base_uri": "https://localhost:8080/"
        },
        "id": "5Z8MkHBsa3KZ",
        "outputId": "fa3764cd-8ec9-466e-e5a3-671f0b799a4b"
      },
      "outputs": [
        {
          "name": "stdout",
          "output_type": "stream",
          "text": [
            "enter no. of elements: 3\n",
            "1\n",
            "2\n",
            "3\n",
            "[1, 2, 3]\n",
            "After swapping: [3, 2, 1]\n"
          ]
        }
      ],
      "source": [
        "arr = []\n",
        "n = int(input(\"enter no. of elements: \"))\n",
        "for i in range(0,n):\n",
        "    ele =int(input())\n",
        "    arr.append(ele)\n",
        "print(arr)    \n",
        "\n",
        "arr[0],arr[n-1] = arr[n-1],arr[0]\n",
        "\n",
        "print(f\"After swapping: {arr}\")"
      ]
    },
    {
      "cell_type": "markdown",
      "metadata": {
        "id": "JJ0gFu26dwzj"
      },
      "source": [
        "approach 3: using tuple variable"
      ]
    },
    {
      "cell_type": "code",
      "execution_count": null,
      "metadata": {
        "colab": {
          "base_uri": "https://localhost:8080/"
        },
        "id": "Qh1X_uqxdN45",
        "outputId": "cf70a6f3-646c-466f-baa6-1b210988ef58"
      },
      "outputs": [
        {
          "name": "stdout",
          "output_type": "stream",
          "text": [
            "After swapping: [2, 5, 6, 7, 9, 4, 1]\n"
          ]
        }
      ],
      "source": [
        "mylist = [1,5,6,7,9,4,2]\n",
        "\n",
        "get = (mylist[-1],mylist[0]) # packing \n",
        "mylist[0],mylist[-1] = get\n",
        "\n",
        "print(f\"After swapping: {mylist}\")"
      ]
    },
    {
      "cell_type": "markdown",
      "metadata": {
        "id": "PbLH4vdRfjk3"
      },
      "source": [
        "approach 4: using * operand"
      ]
    },
    {
      "cell_type": "code",
      "execution_count": null,
      "metadata": {
        "colab": {
          "base_uri": "https://localhost:8080/"
        },
        "id": "LxjkFCXtduHX",
        "outputId": "619a1df5-02fc-4a02-e4f9-1d2abe0f1ccf"
      },
      "outputs": [
        {
          "name": "stdout",
          "output_type": "stream",
          "text": [
            "After swapping: [2, 5, 6, 7, 9, 4, 1]\n"
          ]
        }
      ],
      "source": [
        "mylist = [1,5,6,7,9,4,2]\n",
        "first,*middle,last = mylist #break into 3 different variables using * operand\n",
        "mylist = [last,*middle,first] #swap first & last element\n",
        "\n",
        "print(f\"After swapping: {mylist}\")"
      ]
    },
    {
      "cell_type": "markdown",
      "metadata": {
        "id": "C9g-PjJSg0l4"
      },
      "source": [
        "approach 5: using pop() built in function"
      ]
    },
    {
      "cell_type": "code",
      "execution_count": null,
      "metadata": {
        "colab": {
          "base_uri": "https://localhost:8080/"
        },
        "id": "PVKzICtSfyvN",
        "outputId": "95e83191-512b-44af-d995-4db4bb50456d"
      },
      "outputs": [
        {
          "name": "stdout",
          "output_type": "stream",
          "text": [
            "After swapping: [2, 5, 6, 7, 9, 4, 1]\n"
          ]
        }
      ],
      "source": [
        "mylist = [1,5,6,7,9,4,2]\n",
        "\n",
        "first = mylist.pop(0)\n",
        "last = mylist.pop(-1)\n",
        "\n",
        "mylist.insert(0,last)# 0 is the index where element is to be addded #inserting last element at first \n",
        "mylist.append(first) #appending first element to the last\n",
        "\n",
        "print(f\"After swapping: {mylist}\")"
      ]
    },
    {
      "cell_type": "markdown",
      "metadata": {
        "id": "vp9Oitzhi9a1"
      },
      "source": [
        "## 10. Swap any two elements in a list\n",
        "Input : List = [23, 65, 19, 90] posl = 1, pos2 =3\n",
        "\n",
        "Output : [19, 65, 23, 90]\n",
        "\n",
        "\n",
        "using list.pop() func"
      ]
    },
    {
      "cell_type": "code",
      "execution_count": null,
      "metadata": {
        "colab": {
          "base_uri": "https://localhost:8080/"
        },
        "id": "ozVW2aJnh-pH",
        "outputId": "c4e188a0-82c7-48f0-859c-c3c6f72cdee7"
      },
      "outputs": [
        {
          "name": "stdout",
          "output_type": "stream",
          "text": [
            "enter pos1: 2\n",
            "enter pos2: 3\n",
            "[23, 65, 90, 19]\n"
          ]
        }
      ],
      "source": [
        "lst = [23, 65, 19, 90]\n",
        "pos1 = int(input(\"enter pos1: \"))\n",
        "pos2 = int(input(\"enter pos2: \"))\n",
        "\n",
        "first_ele = lst.pop(pos1) # element is popped out\n",
        "sec_ele = lst.pop(pos2 - 1) # now list has n-1 elements \n",
        "\n",
        "lst.insert(pos1,sec_ele)\n",
        "lst.insert(pos2,first_ele)\n",
        "\n",
        "print(lst)"
      ]
    },
    {
      "cell_type": "markdown",
      "metadata": {
        "id": "lihthQaZoXJa"
      },
      "source": [
        "## 11. Remove Nth occurrence of the given word\n",
        "• Input: list = [\"geeks\", \"for\", \"geeks\"]\n",
        "  word = geeks, N = 2\n",
        "\n",
        "• Output: list = [\"geeks\", \"for\"]"
      ]
    },
    {
      "cell_type": "code",
      "execution_count": null,
      "metadata": {
        "colab": {
          "base_uri": "https://localhost:8080/"
        },
        "id": "YWNDcfHlrDO7",
        "outputId": "310d79f2-a2b5-478c-c6a5-e078a2c96c57"
      },
      "outputs": [
        {
          "name": "stdout",
          "output_type": "stream",
          "text": [
            "updated list: ['geeks', 'for']\n"
          ]
        }
      ],
      "source": [
        "mylst = [\"geeks\",\"for\",\"geeks\"]\n",
        "word = \"geeks\"\n",
        "n=2\n",
        "count = 0\n",
        "\n",
        "for i in range(0,len(mylst)):\n",
        "    if (mylst[i] == word):\n",
        "        count = count+1\n",
        "        if (count == n):\n",
        "            del(mylst[i]) \n",
        "            \n",
        "print(f\"updated list: {mylst}\")            "
      ]
    },
    {
      "cell_type": "markdown",
      "metadata": {
        "id": "-EQOxv1GZ2nQ"
      },
      "source": [
        "## 12. Search an element in a list\n",
        "appraoch 1: using loop"
      ]
    },
    {
      "cell_type": "code",
      "execution_count": null,
      "metadata": {
        "colab": {
          "base_uri": "https://localhost:8080/"
        },
        "id": "PNjLiaZry8rm",
        "outputId": "84da4c76-d003-4fa7-858a-b08e07001cce"
      },
      "outputs": [
        {
          "name": "stdout",
          "output_type": "stream",
          "text": [
            "enter no. for search: 6\n",
            "Element found & appeared 1 times\n"
          ]
        }
      ],
      "source": [
        "mylist = [1,6,3,5,3,4]\n",
        "n = int(input(\"enter no. for search: \"))\n",
        "count = 0\n",
        "\n",
        "for i in mylist:\n",
        "    if i == n:    \n",
        "        count = count + 1\n",
        "if(count >= 1):\n",
        "    print(f\"Element found & appeared {count} times\")\n",
        "else:\n",
        "    print(\"Element not found\") "
      ]
    },
    {
      "cell_type": "markdown",
      "metadata": {
        "id": "Llht-KqkdH9D"
      },
      "source": [
        "approach 2: using in operator"
      ]
    },
    {
      "cell_type": "code",
      "execution_count": null,
      "metadata": {
        "colab": {
          "base_uri": "https://localhost:8080/"
        },
        "id": "3tDbR_Y9apbY",
        "outputId": "a5fb1d79-8246-4bb3-92c3-220d6b4061f5"
      },
      "outputs": [
        {
          "name": "stdout",
          "output_type": "stream",
          "text": [
            "Element found & appeared 1 times\n"
          ]
        }
      ],
      "source": [
        " if (n in mylist):\n",
        "     print(f\"Element found & appeared {count} times\")\n",
        " else:\n",
        "     print(\"element not found\")    "
      ]
    },
    {
      "cell_type": "markdown",
      "metadata": {
        "id": "Up2E4nmjebRW"
      },
      "source": [
        "## 13. How to clear a list\n"
      ]
    },
    {
      "cell_type": "markdown",
      "metadata": {
        "id": "M4l3R3E-eXt6"
      },
      "source": [
        "Approach 1: using clear() method"
      ]
    },
    {
      "cell_type": "code",
      "execution_count": null,
      "metadata": {
        "colab": {
          "base_uri": "https://localhost:8080/"
        },
        "id": "fOPjkhxleXZc",
        "outputId": "95b7883b-898f-412a-d334-49f635545a98"
      },
      "outputs": [
        {
          "name": "stdout",
          "output_type": "stream",
          "text": [
            "List before clear: [6, 0, 4, 1]\n",
            "List after clear: []\n"
          ]
        }
      ],
      "source": [
        "mylist = [6,0,4,1]\n",
        "print(f\"List before clear: {mylist}\")\n",
        "mylist.clear()\n",
        "print(f\"List after clear: {mylist}\")"
      ]
    },
    {
      "cell_type": "markdown",
      "metadata": {
        "id": "OlRF9BBLeOlc"
      },
      "source": [
        "Approach 2: Initialise the list with no value"
      ]
    },
    {
      "cell_type": "code",
      "execution_count": null,
      "metadata": {
        "colab": {
          "base_uri": "https://localhost:8080/"
        },
        "id": "Z_Rm92BYdhjB",
        "outputId": "d6deab2f-6408-415e-df6d-061d18f97317"
      },
      "outputs": [
        {
          "name": "stdout",
          "output_type": "stream",
          "text": [
            "List before clear: [6, 0, 4, 1]\n",
            "List after clear: []\n"
          ]
        }
      ],
      "source": [
        "mylist = [6,0,4,1]\n",
        "print(f\"List before clear: {mylist}\")\n",
        "mylist = []\n",
        "print(f\"List after clear: {mylist}\")"
      ]
    },
    {
      "cell_type": "markdown",
      "metadata": {
        "id": "1fQBHIjpe1lq"
      },
      "source": [
        "Approach 3: Using \"*= 0\" this method removes all elements of the List and makes it empty."
      ]
    },
    {
      "cell_type": "code",
      "execution_count": null,
      "metadata": {
        "colab": {
          "base_uri": "https://localhost:8080/"
        },
        "id": "hSeu8WeleGs-",
        "outputId": "0254a4e8-6dd8-4fdd-8d62-c3422914ffc6"
      },
      "outputs": [
        {
          "name": "stdout",
          "output_type": "stream",
          "text": [
            "List before clear: [6, 0, 4, 1]\n",
            "List after clear: []\n"
          ]
        }
      ],
      "source": [
        "mylist = [6,0,4,1]\n",
        "print(f\"List before clear: {mylist}\")\n",
        "mylist *= 0\n",
        "print(f\"List after clear: {mylist}\")"
      ]
    },
    {
      "cell_type": "markdown",
      "metadata": {
        "id": "Bv0HxV5XfRvP"
      },
      "source": [
        "Approach 4: using del() method, slicing"
      ]
    },
    {
      "cell_type": "code",
      "execution_count": null,
      "metadata": {
        "colab": {
          "base_uri": "https://localhost:8080/"
        },
        "id": "On5J8c1PfOav",
        "outputId": "0e809dd6-9eec-49ce-976a-96f9c2afabee"
      },
      "outputs": [
        {
          "name": "stdout",
          "output_type": "stream",
          "text": [
            "List before clear: [6, 0, 4, 1]\n",
            "List after clear: []\n"
          ]
        }
      ],
      "source": [
        "mylist = [6,0,4,1]\n",
        "print(f\"List before clear: {mylist}\")\n",
        "del mylist[:] # deletes all the elements\n",
        "print(f\"List after clear: {mylist}\")"
      ]
    },
    {
      "attachments": {},
      "cell_type": "markdown",
      "metadata": {},
      "source": [
        "## 14.  To Remove empty List from List"
      ]
    },
    {
      "cell_type": "code",
      "execution_count": 1,
      "metadata": {},
      "outputs": [
        {
          "name": "stdout",
          "output_type": "stream",
          "text": [
            "[34, 7, 9, 12, 46]\n"
          ]
        }
      ],
      "source": [
        "# Approach 1: using append() method\n",
        "lst3 = [34,[],7,9,12,[],46]\n",
        "new_lst3 = []\n",
        "\n",
        "for i in lst3:\n",
        "    if i != []: # If empty list is not there add into new list\n",
        "        new_lst3.append(i)\n",
        "print(new_lst3)"
      ]
    },
    {
      "cell_type": "code",
      "execution_count": 2,
      "metadata": {},
      "outputs": [
        {
          "name": "stdout",
          "output_type": "stream",
          "text": [
            "[34, 7, 9, 12, 46]\n"
          ]
        }
      ],
      "source": [
        "# Approach 2: using remove() method\n",
        "lst3 = [34,[],7,9,12,[],46]\n",
        "new_lst3 = []\n",
        "# Remove empty List from List\n",
        "while [] in lst3 :\n",
        "    lst3.remove([])\n",
        "print(lst3)"
      ]
    },
    {
      "cell_type": "code",
      "execution_count": 3,
      "metadata": {},
      "outputs": [
        {
          "name": "stdout",
          "output_type": "stream",
          "text": [
            "[34, 7, [6, 2], 9, 46]\n"
          ]
        }
      ],
      "source": [
        "# Approach 3: if list within list has 0 length then remove it\n",
        "lst3 = [34,[],7,[6,2],9,[],46]\n",
        "\n",
        "for i in lst3:\n",
        "    if type(i) == list:\n",
        "        if len(i) == 0:\n",
        "            lst3.remove([])\n",
        "print(lst3)"
      ]
    },
    {
      "attachments": {},
      "cell_type": "markdown",
      "metadata": {
        "id": "5QEBm76NERq8"
      },
      "source": [
        "## 15. Reverse a list/array/string\n",
        "i/p = [10,11,12,13,14,15]  \n",
        "o/p = [15,14,13,12,11,10]"
      ]
    },
    {
      "cell_type": "markdown",
      "metadata": {
        "id": "Z1URRTn6F5SY"
      },
      "source": [
        "Approach 1: using slicing [ : : -1 ]"
      ]
    },
    {
      "cell_type": "code",
      "execution_count": null,
      "metadata": {
        "colab": {
          "base_uri": "https://localhost:8080/"
        },
        "id": "6gESdiTkfuJy",
        "outputId": "935273bf-0f16-4cfb-c4c7-877b11db5111"
      },
      "outputs": [
        {
          "data": {
            "text/plain": [
              "[15, 14, 13, 12, 11, 10]"
            ]
          },
          "execution_count": 38,
          "metadata": {},
          "output_type": "execute_result"
        }
      ],
      "source": [
        "lst = [10,11,12,13,14,15]\n",
        "lst[::-1]"
      ]
    },
    {
      "cell_type": "markdown",
      "metadata": {
        "id": "SrVwp4kRN_W4"
      },
      "source": [
        "Approach 2: using reverse() method"
      ]
    },
    {
      "cell_type": "code",
      "execution_count": null,
      "metadata": {
        "colab": {
          "base_uri": "https://localhost:8080/"
        },
        "id": "ELUQ7kgkOD69",
        "outputId": "1d846947-8d5a-4f84-840c-fd6eba4a4f55"
      },
      "outputs": [
        {
          "name": "stdout",
          "output_type": "stream",
          "text": [
            "Before reverse:[10, 11, 12, 13, 14, 15]\n",
            "After reverse: [15, 14, 13, 12, 11, 10]\n"
          ]
        }
      ],
      "source": [
        "lst = [10,11,12,13,14,15]\n",
        "print(f\"Before reverse:{lst}\")\n",
        "rev = lst.reverse()\n",
        "print(f\"After reverse: {lst}\")"
      ]
    },
    {
      "cell_type": "markdown",
      "metadata": {
        "id": "CiyO1cljtK4J"
      },
      "source": [
        "Approach 3: using loop; c++ array; used for reversing individual elements"
      ]
    },
    {
      "cell_type": "code",
      "execution_count": null,
      "metadata": {
        "colab": {
          "base_uri": "https://localhost:8080/"
        },
        "id": "bpUAkdHfZ2c5",
        "outputId": "299f0842-f0a0-4bc4-8591-1378203881eb"
      },
      "outputs": [
        {
          "name": "stdout",
          "output_type": "stream",
          "text": [
            "[35, 25, 18, 15, 12, 10]\n"
          ]
        }
      ],
      "source": [
        "arr = [10,12,15,18,25,35]\n",
        "n = len(arr)\n",
        "rev = [] # creating an empty list to add reverse element \n",
        "\n",
        "for i in range(0,n):\n",
        "    ele = arr[n-1]  # putting last element to \"ele\" variable &  \n",
        "    rev.append(ele) # then appending to new \"rev\" list\n",
        "    n=n-1           # decreasing the value of n so to access 2nd,3rd last element \n",
        "                    # & so on...  from the \"arr\" list\n",
        "print(rev)\n"
      ]
    },
    {
      "cell_type": "code",
      "execution_count": null,
      "metadata": {
        "id": "JSm2Oh94tKPO"
      },
      "outputs": [],
      "source": [
        "# reverse a list in different way\n",
        "list(reversed(range(1,11))) # in range only"
      ]
    },
    {
      "attachments": {},
      "cell_type": "markdown",
      "metadata": {
        "id": "8ORP3m2DyM63"
      },
      "source": [
        "## 16. Reverse words of a string \n",
        "eg: str = \"Welcome to python program\" \n",
        "    \n",
        " o/p: \"program python to Welcome \" "
      ]
    },
    {
      "cell_type": "markdown",
      "metadata": {
        "id": "D_AuWEoD3ky6"
      },
      "source": [
        "Approach 1: splitting the string on the basis of \"space\" separation so they converted to individual elements in list then reversing them & converting list to string using loop"
      ]
    },
    {
      "cell_type": "code",
      "execution_count": null,
      "metadata": {
        "colab": {
          "base_uri": "https://localhost:8080/"
        },
        "id": "ybSDfJwSzMlg",
        "outputId": "2a85bdb6-4f77-4bd6-b8e7-fe3ce1edd057"
      },
      "outputs": [
        {
          "name": "stdout",
          "output_type": "stream",
          "text": [
            "Reversed words of string: program python to Welcome \n"
          ]
        }
      ],
      "source": [
        "arr = \"Welcome to python program\"\n",
        "arr_new = arr.split(\" \")    # splitting the string \n",
        "rev = arr_new[::-1]         # reversing the list: ['program', 'python', 'to', 'Welcome']\n",
        "stg = \"\"                    # creating empty string\n",
        "for ele in rev:             # adding elements in list to an empty string\n",
        "    stg = stg + ele + \" \" \n",
        "\n",
        "print(f\"Reversed words of string: {stg}\")"
      ]
    },
    {
      "cell_type": "markdown",
      "metadata": {
        "id": "CbJkEjKd5azL"
      },
      "source": [
        "Approach 2: same concept as above but using **join()**  "
      ]
    },
    {
      "cell_type": "code",
      "execution_count": null,
      "metadata": {
        "colab": {
          "base_uri": "https://localhost:8080/"
        },
        "id": "YLXyQsxo6OGK",
        "outputId": "80842b55-c64b-42c2-82b2-1fab84049ebd"
      },
      "outputs": [
        {
          "name": "stdout",
          "output_type": "stream",
          "text": [
            "Reversed words of string: program python to Welcome\n"
          ]
        }
      ],
      "source": [
        "arr = \"Welcome to python program\"\n",
        "arr_new = arr.split(\" \")    # splitting the string \n",
        "rev = arr_new[::-1]         # reversing the list: ['program', 'python', 'to', 'Welcome']\n",
        "stg = \" \".join(rev)\n",
        "\n",
        "print(f\"Reversed words of string: {stg}\")"
      ]
    },
    {
      "attachments": {},
      "cell_type": "markdown",
      "metadata": {
        "id": "1eqqVmlXG46l"
      },
      "source": [
        "## 17. Reverse a no."
      ]
    },
    {
      "cell_type": "markdown",
      "metadata": {
        "id": "qNGWc6Q9KRsS"
      },
      "source": [
        "Approach 1: using loop"
      ]
    },
    {
      "cell_type": "code",
      "execution_count": null,
      "metadata": {
        "colab": {
          "base_uri": "https://localhost:8080/"
        },
        "id": "R_jtGpN2Ejrj",
        "outputId": "9f16b7e6-2be4-4189-bc00-a80b02ce4110"
      },
      "outputs": [
        {
          "name": "stdout",
          "output_type": "stream",
          "text": [
            "enter digit of a no: 3\n",
            "enter a no: 123\n",
            "Reverse of num: 321\n"
          ]
        }
      ],
      "source": [
        "dig = int(input(\"enter digit of a no: \"))\n",
        "num = int(input(\"enter a no: \"))\n",
        "rev = 0\n",
        "\n",
        "for i in range(0,dig):\n",
        "    rem = num%10        # accessing last digit of the number\n",
        "    rev = rev*10 + rem  # eg: 123 -> 3 -> 3x10 + 2 = 32 -> 32x10 + 1 = 321 \n",
        "    num = num//10\n",
        "print(f\"Reverse of num: {rev}\")    \n",
        "\n",
        "# **using while loop**\n",
        "# while(num!=0):\n",
        "#    rem = num%10  \n",
        "#    rev = rev*10 + rem \n",
        "#    num = int(num/10)\n"
      ]
    },
    {
      "cell_type": "markdown",
      "metadata": {
        "id": "rNr_YFVjPtAO"
      },
      "source": [
        "Approach 2: using **recursion**"
      ]
    },
    {
      "cell_type": "code",
      "execution_count": null,
      "metadata": {
        "colab": {
          "base_uri": "https://localhost:8080/"
        },
        "id": "okiJBhgoHb7-",
        "outputId": "db75377e-8131-4166-9b1e-a0eef847baaf"
      },
      "outputs": [
        {
          "name": "stdout",
          "output_type": "stream",
          "text": [
            "enter no: 5\n",
            "Reverse is: 5\n"
          ]
        }
      ],
      "source": [
        "n = int(input(\"enter no: \"))\n",
        "rev = 0    \n",
        "\n",
        "def reverse(n):\n",
        "    global rev\n",
        "    if(n==0):       # base condition\n",
        "        return rev\n",
        "    else: \n",
        "        rev = rev*10 + n%10    \n",
        "        return reverse(n//10)\n",
        "\n",
        "print(f\"Reverse is: {reverse(n)}\")\n",
        "\n",
        "#def reverse(n):\n",
        "#    global rev\n",
        "#    if (n>0):\n",
        "#        rev = rev*10 + n%10\n",
        "#        reverse(n//10)\n",
        "#    return rev"
      ]
    },
    {
      "attachments": {},
      "cell_type": "markdown",
      "metadata": {
        "id": "SCU9gFYnqsuP"
      },
      "source": [
        "## 18. Palindrome no. 121 1441 1223221 111\n",
        "Approach 1: using loop"
      ]
    },
    {
      "cell_type": "code",
      "execution_count": null,
      "metadata": {
        "colab": {
          "base_uri": "https://localhost:8080/"
        },
        "id": "Xh3VIC5UrAvO",
        "outputId": "8fd93977-83e2-44b9-d6d5-6d97064b960b"
      },
      "outputs": [
        {
          "name": "stdout",
          "output_type": "stream",
          "text": [
            "enter digit of a no: 3\n",
            "enter a num: 121\n",
            "yes palindrome\n"
          ]
        }
      ],
      "source": [
        "dig = int(input(\"enter digit of a no: \"))\n",
        "n = int(input(\"enter a num: \"))\n",
        "temp = n # putting n value to temp variable as n value changes while performing loop\n",
        "rev = 0\n",
        "for i in range(0,dig):\n",
        "    rem = n%10\n",
        "    rev = rev*10 + rem\n",
        "    n = n//10\n",
        "\n",
        "if (temp==rev):\n",
        "    print(\"yes palindrome\")\n",
        "else:\n",
        "    print(\"not a palindrome\")    "
      ]
    },
    {
      "attachments": {},
      "cell_type": "markdown",
      "metadata": {
        "id": "3AxCf0j4hmZZ"
      },
      "source": [
        "## 19. Clone or copy a list/array\n",
        "i/p: [4,8,2,10,15,18]   \n",
        "o/p: [4,8,2,10,15,18]"
      ]
    },
    {
      "cell_type": "markdown",
      "metadata": {
        "id": "Q62DUWEkh-6y"
      },
      "source": [
        "Approach 1:using slicing technique"
      ]
    },
    {
      "cell_type": "code",
      "execution_count": null,
      "metadata": {
        "colab": {
          "base_uri": "https://localhost:8080/"
        },
        "id": "XPdFbFpihrZ4",
        "outputId": "1476a37d-2e5c-4727-8dfb-5f3add423c21"
      },
      "outputs": [
        {
          "name": "stdout",
          "output_type": "stream",
          "text": [
            "[4, 8, 2, 10, 15, 18]\n"
          ]
        }
      ],
      "source": [
        "lst = [4,8,2,10,15,18] \n",
        "lstcopy = lst[:]   \n",
        "print(lstcopy)"
      ]
    },
    {
      "cell_type": "markdown",
      "metadata": {
        "id": "VnLCp_gBigd2"
      },
      "source": [
        "Approach 2: using extend() method"
      ]
    },
    {
      "cell_type": "code",
      "execution_count": null,
      "metadata": {
        "colab": {
          "base_uri": "https://localhost:8080/"
        },
        "id": "jUVmgBSfiVBO",
        "outputId": "3fafac8e-f536-44ef-9018-67a32107d96e"
      },
      "outputs": [
        {
          "name": "stdout",
          "output_type": "stream",
          "text": [
            "[4, 8, 2, 10, 15, 18]\n"
          ]
        }
      ],
      "source": [
        "lst = [4,8,2,10,15,18] \n",
        "lstcopy = []\n",
        "lstcopy.extend(lst) # append or extend to the empty list\n",
        "print(lstcopy) "
      ]
    },
    {
      "cell_type": "markdown",
      "metadata": {
        "id": "syR0W9Jfi3fc"
      },
      "source": [
        "Approach 3:using list() method"
      ]
    },
    {
      "cell_type": "code",
      "execution_count": null,
      "metadata": {
        "colab": {
          "base_uri": "https://localhost:8080/"
        },
        "id": "meMr_kDYi0jU",
        "outputId": "f263c04c-34c4-4951-aac3-ccd4ea78043d"
      },
      "outputs": [
        {
          "name": "stdout",
          "output_type": "stream",
          "text": [
            "[4, 8, 2, 10, 15, 18]\n"
          ]
        }
      ],
      "source": [
        "lst = [4,8,2,10,15,18]\n",
        "lstcopy = list(lst)\n",
        "print(lstcopy) "
      ]
    },
    {
      "cell_type": "markdown",
      "metadata": {
        "id": "Ov-0UGR0jd_r"
      },
      "source": [
        "Approach 4: using copy() method"
      ]
    },
    {
      "cell_type": "code",
      "execution_count": null,
      "metadata": {
        "colab": {
          "base_uri": "https://localhost:8080/"
        },
        "id": "_GjNDs1mjZSQ",
        "outputId": "1e5de523-9021-4aa9-bf8e-bfcfb2a6e7f9"
      },
      "outputs": [
        {
          "name": "stdout",
          "output_type": "stream",
          "text": [
            "[4, 8, 2, 10, 15, 18]\n"
          ]
        }
      ],
      "source": [
        "lst = [4,8,2,10,15,18]\n",
        "lstcopy = lst.copy()\n",
        "print(lstcopy)"
      ]
    },
    {
      "cell_type": "markdown",
      "metadata": {
        "id": "KnlfUs9tj08I"
      },
      "source": [
        "Approach 5: using list comprehension"
      ]
    },
    {
      "cell_type": "code",
      "execution_count": null,
      "metadata": {
        "colab": {
          "base_uri": "https://localhost:8080/"
        },
        "id": "Uq6KOE-TjrDO",
        "outputId": "8dedfff3-e680-4c09-ea7d-eeca4d8f0af8"
      },
      "outputs": [
        {
          "name": "stdout",
          "output_type": "stream",
          "text": [
            "copy list: [4, 8, 2, 10, 15, 18]\n"
          ]
        }
      ],
      "source": [
        "lst = [4,8,2,10,15,18]\n",
        "lstcopy = [i for i in lst]  # i is added to lstcopy & other is looping statement\n",
        "print(f\"copy list: {lstcopy}\")"
      ]
    },
    {
      "attachments": {},
      "cell_type": "markdown",
      "metadata": {
        "id": "QCZjV7zXknQ3"
      },
      "source": [
        "## 20. Count occurences of an element in a list/array\n",
        "i/p: [15 , 6 , 7 , 10 , 12 , 20 , 10 , 28 , 10]      x = 10\n",
        "\n",
        "o/p: 3   \n",
        "10 appears 3 times in list\n"
      ]
    },
    {
      "cell_type": "markdown",
      "metadata": {
        "id": "nOH1IQ2OoR9e"
      },
      "source": [
        "Approach 1: using loop"
      ]
    },
    {
      "cell_type": "code",
      "execution_count": null,
      "metadata": {
        "colab": {
          "base_uri": "https://localhost:8080/"
        },
        "id": "5qSKQAtCkJkC",
        "outputId": "2c2aae07-f785-4bda-ebcc-f3a3279ff868"
      },
      "outputs": [
        {
          "name": "stdout",
          "output_type": "stream",
          "text": [
            "enter num for checking count: 10\n",
            "10 appears 3 times in list\n"
          ]
        }
      ],
      "source": [
        "lst = [15,6,7,10,12,20,10,28,10]\n",
        "num = int(input(\"enter num for checking count: \"))\n",
        "count = 0\n",
        "\n",
        "for i in range(0, len(lst)):\n",
        "    if (lst[i] == num):\n",
        "        count = count+1\n",
        "if count>0:\n",
        "    print(f\"{num} appears {count} times in list\")\n",
        "else:\n",
        "    print(\"number not in list\")\n",
        "\n",
        "# for ele in lst: \n",
        "#     if (ele == num):\n",
        "#         count = count + 1\n",
        "# print(f\"{num} appears {count} times in list\")                    "
      ]
    },
    {
      "cell_type": "markdown",
      "metadata": {
        "id": "7XlbQ72zoVMq"
      },
      "source": [
        "Approach 2: using count() method"
      ]
    },
    {
      "cell_type": "code",
      "execution_count": null,
      "metadata": {
        "colab": {
          "base_uri": "https://localhost:8080/"
        },
        "id": "LVkDvFifm1YI",
        "outputId": "e2a2d27d-61b2-4693-f096-ec0e18462c5c"
      },
      "outputs": [
        {
          "name": "stdout",
          "output_type": "stream",
          "text": [
            "enter num for checking count: 10\n",
            "10 appears 3 times in list\n"
          ]
        }
      ],
      "source": [
        "lst = [15,6,7,10,12,20,10,28,10]\n",
        "num = int(input(\"enter num for checking count: \"))\n",
        "\n",
        "count = lst.count(num)\n",
        "\n",
        "print(f\"{num} appears {count} times in list\")"
      ]
    },
    {
      "cell_type": "markdown",
      "metadata": {
        "id": "EDc3sspjpFLU"
      },
      "source": [
        "Approach 3: using counter() method"
      ]
    },
    {
      "cell_type": "code",
      "execution_count": null,
      "metadata": {
        "colab": {
          "base_uri": "https://localhost:8080/"
        },
        "id": "Q_TMRUR9oqbL",
        "outputId": "b6afe41e-b172-4022-e932-a42d72011ea3"
      },
      "outputs": [
        {
          "name": "stdout",
          "output_type": "stream",
          "text": [
            "enter num for checking count: 12\n",
            "12 appears 1 times in list\n",
            "Counter({10: 3, 15: 1, 6: 1, 7: 1, 12: 1, 20: 1, 28: 1})\n"
          ]
        }
      ],
      "source": [
        "lst = [15,6,7,10,12,20,10,28,10]\n",
        "num = int(input(\"enter num for checking count: \"))\n",
        "from collections import Counter\n",
        "dic = Counter(lst)   # it will return a dictionary variable: {element:count}\n",
        "                     # eg: {5:1,6:1,7:1,10:3....}               key : value\n",
        "print(f\"{num} appears {dic[num]} times in list\")\n",
        "print(dic)"
      ]
    },
    {
      "attachments": {},
      "cell_type": "markdown",
      "metadata": {
        "id": "A0E5zCif6bGl"
      },
      "source": [
        "## 21. Multiply all numbers in the list  "
      ]
    },
    {
      "cell_type": "markdown",
      "metadata": {
        "id": "blGA-KuY9A_H"
      },
      "source": [
        "Approach 1: using loop"
      ]
    },
    {
      "cell_type": "code",
      "execution_count": null,
      "metadata": {
        "colab": {
          "base_uri": "https://localhost:8080/"
        },
        "id": "gSAF6YCP6ndA",
        "outputId": "59ce23f8-31f1-408b-f486-c96e2025af0b"
      },
      "outputs": [
        {
          "name": "stdout",
          "output_type": "stream",
          "text": [
            "Mutiple of list: 24\n"
          ]
        }
      ],
      "source": [
        "lst = [3,2,4]\n",
        "mul = 1\n",
        "\n",
        "for i in range(0,len(lst)):\n",
        "    mul = mul*lst[i]\n",
        "\n",
        "print(f\"Mutiple of list: {mul}\")    \n",
        "\n",
        "# or \n",
        "# for i in lst:\n",
        "#    mul = mul*i"
      ]
    },
    {
      "cell_type": "markdown",
      "metadata": {
        "id": "9KCb-ggB8fse"
      },
      "source": [
        "Approach 2: using numpy.product()"
      ]
    },
    {
      "cell_type": "code",
      "execution_count": null,
      "metadata": {
        "colab": {
          "base_uri": "https://localhost:8080/"
        },
        "id": "eXq7zmOD7B-2",
        "outputId": "bf309159-021e-4d31-bbbe-7199ed3a8727"
      },
      "outputs": [
        {
          "data": {
            "text/plain": [
              "24"
            ]
          },
          "execution_count": 40,
          "metadata": {},
          "output_type": "execute_result"
        }
      ],
      "source": [
        "import numpy as np\n",
        "\n",
        "lst = [3,2,4]\n",
        "np.prod(lst)"
      ]
    },
    {
      "attachments": {},
      "cell_type": "markdown",
      "metadata": {
        "id": "0_rhVWgVAaxb"
      },
      "source": [
        "## 22. Find 2nd largest no. in list\n",
        "Approach 1: using sort()"
      ]
    },
    {
      "cell_type": "code",
      "execution_count": null,
      "metadata": {
        "colab": {
          "base_uri": "https://localhost:8080/"
        },
        "id": "zmxcjm1r9PQG",
        "outputId": "657dc46c-03a6-4d9c-a2ea-01d5e270cb12"
      },
      "outputs": [
        {
          "name": "stdout",
          "output_type": "stream",
          "text": [
            "2nd largest no: 45\n"
          ]
        }
      ],
      "source": [
        "lst = [10,20,4,45,99]\n",
        "lst.sort() # sorting\n",
        "print(f\"2nd largest no: {lst[-2]}\") #accessing 2nd last no"
      ]
    },
    {
      "cell_type": "markdown",
      "metadata": {
        "id": "VRIk9hBYDGO9"
      },
      "source": [
        "Approach 2: using extract; remove largest no from the list and then print largest from the new list "
      ]
    },
    {
      "cell_type": "code",
      "execution_count": null,
      "metadata": {
        "colab": {
          "base_uri": "https://localhost:8080/"
        },
        "id": "N9ck5QNQ8MPt",
        "outputId": "66adb128-2475-468e-dfa3-5012dce60e82"
      },
      "outputs": [
        {
          "name": "stdout",
          "output_type": "stream",
          "text": [
            "45\n"
          ]
        }
      ],
      "source": [
        "lst = [10,20,4,45,99]\n",
        "lst.remove(max(lst)) # removing maximum from list\n",
        "print(max(lst))    # then printing max element from list, is the 2nd max no. in list"
      ]
    },
    {
      "cell_type": "markdown",
      "metadata": {
        "id": "drclQfZPoOkG"
      },
      "source": [
        "Approach 3: using loop"
      ]
    },
    {
      "cell_type": "code",
      "execution_count": null,
      "metadata": {
        "colab": {
          "base_uri": "https://localhost:8080/"
        },
        "id": "26vuF2DrHzXC",
        "outputId": "dbbfa8f4-6c70-4dd3-af4c-72eb969a778d"
      },
      "outputs": [
        {
          "name": "stdout",
          "output_type": "stream",
          "text": [
            "2nd largest element: 15\n"
          ]
        }
      ],
      "source": [
        "arr = [2,5,15,4,18]\n",
        "max1 = arr[0]\n",
        "max2 = 0\n",
        "for i in range(0,len(arr)):\n",
        "    if (max1<arr[i]):\n",
        "        max2=max1\n",
        "        max1=arr[i]\n",
        "    if (max2<arr[i] and arr[i]<max1):\n",
        "        max2=arr[i]\n",
        "        \n",
        "print(f\"2nd largest element: {max2}\")            \n"
      ]
    },
    {
      "attachments": {},
      "cell_type": "markdown",
      "metadata": {
        "id": "LaQczR5eoxtN"
      },
      "source": [
        "## 23. Palindrome string\n",
        "eg: madam - Palindrome                            \n",
        "welcome - not palindrome"
      ]
    },
    {
      "cell_type": "markdown",
      "metadata": {
        "id": "fNwI_IySqmPv"
      },
      "source": [
        "Approach 1: using string slicing"
      ]
    },
    {
      "cell_type": "code",
      "execution_count": null,
      "metadata": {
        "colab": {
          "base_uri": "https://localhost:8080/"
        },
        "id": "jYAHeZedgHQN",
        "outputId": "86f15602-310c-4488-faa8-233803d4fd8d"
      },
      "outputs": [
        {
          "name": "stdout",
          "output_type": "stream",
          "text": [
            "enter character: maam\n",
            "palindrome\n"
          ]
        }
      ],
      "source": [
        "stg = input(\"enter character: \")  # find reverse of string; check if reverse = original \n",
        "rev = stg[::-1]  # reverse of string\n",
        "if (rev == stg):  # checking if reverse is same as original\n",
        "    print(\"palindrome\")\n",
        "else:\n",
        "    print(\"not palindrome\")    "
      ]
    },
    {
      "attachments": {},
      "cell_type": "markdown",
      "metadata": {
        "id": "jnMkCPUGSckg"
      },
      "source": [
        "## 24. Find substring present in a string\n",
        "str = \"welcome to python programming\"\n",
        "\n",
        "sub_str = \"python\""
      ]
    },
    {
      "cell_type": "markdown",
      "metadata": {
        "id": "RPcsYiHfTMaC"
      },
      "source": [
        "Approach 1: using find() method; find() method finds first occurence of the specified value. it returns -1 if the value is not found"
      ]
    },
    {
      "cell_type": "code",
      "execution_count": 3,
      "metadata": {
        "colab": {
          "base_uri": "https://localhost:8080/"
        },
        "id": "ThHFRVI8qEuq",
        "outputId": "fefdabe5-47a7-4f23-cac9-0c9bfaa0a6b4"
      },
      "outputs": [
        {
          "name": "stdout",
          "output_type": "stream",
          "text": [
            "Substring found & present at 11 position\n"
          ]
        }
      ],
      "source": [
        "strg = \"welcome to python programming\"\n",
        "sub_str = \"python\"\n",
        "# print(strg.find(sub_str))  # returns the position of the string in main string\n",
        "\n",
        "if (strg.find(sub_str) == -1):\n",
        "    print(f\"Substring not found\")\n",
        "else:\n",
        "    print(f\"Substring found & present at {strg.find(sub_str)} position\")\n"
      ]
    },
    {
      "attachments": {},
      "cell_type": "markdown",
      "metadata": {
        "id": "wYgjCZheVA0k"
      },
      "source": [
        "## 25. Length of string\n",
        "i/p: welcome\n",
        "o/p: 7"
      ]
    },
    {
      "cell_type": "markdown",
      "metadata": {
        "id": "iI_EhFqPVXQ_"
      },
      "source": [
        "Approach 1: using loop"
      ]
    },
    {
      "cell_type": "code",
      "execution_count": 8,
      "metadata": {
        "colab": {
          "base_uri": "https://localhost:8080/"
        },
        "id": "13lpJqOfqXVe",
        "outputId": "9a135fa2-568d-41e2-e6ca-1924ff2b9f2b"
      },
      "outputs": [
        {
          "name": "stdout",
          "output_type": "stream",
          "text": [
            "Length of string: 7\n"
          ]
        }
      ],
      "source": [
        "stg = \"welcome\"\n",
        "count= 0\n",
        "\n",
        "for i in range(0, len(stg)):\n",
        "    count = count+1\n",
        "\n",
        "print(f\"Length of string: {count}\")"
      ]
    },
    {
      "cell_type": "markdown",
      "metadata": {
        "id": "vEQ8np6MV3IS"
      },
      "source": [
        "Approach 2: using while loop & slicing"
      ]
    },
    {
      "cell_type": "code",
      "execution_count": 13,
      "metadata": {
        "colab": {
          "base_uri": "https://localhost:8080/"
        },
        "id": "259DHO1avL5c",
        "outputId": "5eede29d-b111-41dc-ea14-0c0ac392069d"
      },
      "outputs": [
        {
          "name": "stdout",
          "output_type": "stream",
          "text": [
            "Length of string: 7\n"
          ]
        }
      ],
      "source": [
        "stg = \"welcome\"\n",
        "count = 0\n",
        "\n",
        "while stg[count:] :\n",
        "    count = count + 1\n",
        "\n",
        "print(f\"Length of string: {count}\")"
      ]
    },
    {
      "cell_type": "markdown",
      "metadata": {
        "id": "PxY7PXJ8XLUE"
      },
      "source": [
        "Approach 3: using len() method"
      ]
    },
    {
      "cell_type": "code",
      "execution_count": 15,
      "metadata": {
        "colab": {
          "base_uri": "https://localhost:8080/"
        },
        "id": "DxNRBWAQvlnC",
        "outputId": "e3b9c290-55ae-4b31-fa94-50303f7ba3ec"
      },
      "outputs": [
        {
          "name": "stdout",
          "output_type": "stream",
          "text": [
            "Length of string: 7\n"
          ]
        }
      ],
      "source": [
        "stg = \"welcome\"\n",
        "print(f\"Length of string: {len(stg)}\")"
      ]
    },
    {
      "cell_type": "markdown",
      "metadata": {
        "id": "otTu0yFiXY37"
      },
      "source": [
        "Approach 4: using join() & count"
      ]
    },
    {
      "cell_type": "code",
      "execution_count": 29,
      "metadata": {
        "colab": {
          "base_uri": "https://localhost:8080/"
        },
        "id": "dDpkAX8GwdKx",
        "outputId": "88af141a-9304-4c8d-ef0c-d197fe3f80fe"
      },
      "outputs": [
        {
          "name": "stdout",
          "output_type": "stream",
          "text": [
            "7\n"
          ]
        }
      ],
      "source": [
        "stg = \"welcome\"\n",
        "random_stg = 'x'\n",
        "\n",
        "#print(random_stg.join(stg)) # returns: wxexlxcxoxmxe \n",
        "print((random_stg.join(stg)).count(random_stg)+1) #prints no of x present in string"
      ]
    },
    {
      "attachments": {},
      "cell_type": "markdown",
      "metadata": {
        "id": "11y_uzM4Zef_"
      },
      "source": [
        "## 26. Check if string contains special character\n",
        "i/p: \"welcome@@2to%%python**program@!!\"\n",
        "\n",
        "o/p: \"welcome to python program\" "
      ]
    },
    {
      "cell_type": "code",
      "execution_count": 34,
      "metadata": {
        "colab": {
          "base_uri": "https://localhost:8080/"
        },
        "id": "5JROzTDXYWLD",
        "outputId": "b9da1fd3-f173-455d-b505-44b5001a89a0"
      },
      "outputs": [
        {
          "name": "stdout",
          "output_type": "stream",
          "text": [
            "yes\n"
          ]
        }
      ],
      "source": [
        "import re # regular expression package\n",
        "stg = \"welcome@@2to%%python**program@!!\"\n",
        "regex = re.compile('[!@#$%^&*{}~]') #list out all the special character using regular expression\n",
        "\n",
        "if regex.search(stg) == None: \n",
        "    print(\"no special character present in string\")\n",
        "else:\n",
        "    print(\"yes, speacial character present\")    \n"
      ]
    },
    {
      "attachments": {},
      "cell_type": "markdown",
      "metadata": {
        "id": "l35oXy2crESC"
      },
      "source": [
        "## 27. Check for URL in a string"
      ]
    },
    {
      "cell_type": "code",
      "execution_count": 3,
      "metadata": {
        "colab": {
          "base_uri": "https://localhost:8080/"
        },
        "id": "ub6DcR4HbaE2",
        "outputId": "07acb0c2-5b46-48ee-b617-213764a73074"
      },
      "outputs": [
        {
          "name": "stdout",
          "output_type": "stream",
          "text": [
            "['http://www.google.com/']\n"
          ]
        }
      ],
      "source": [
        "import re #urlregex.com\n",
        "stg = \"I have a website: http://www.google.com/\"\n",
        "url = re.findall('http[s]?://(?:[a-zA-Z]|[0-9]|[$-_@.&+]|[!*\\(\\),]|(?:%[0-9a-fA-F][0-9a-fA-F]))+',stg)\n",
        "\n",
        "print(url)\n"
      ]
    }
  ],
  "metadata": {
    "colab": {
      "provenance": []
    },
    "kernelspec": {
      "display_name": "Python 3",
      "language": "python",
      "name": "python3"
    },
    "language_info": {
      "codemirror_mode": {
        "name": "ipython",
        "version": 3
      },
      "file_extension": ".py",
      "mimetype": "text/x-python",
      "name": "python",
      "nbconvert_exporter": "python",
      "pygments_lexer": "ipython3",
      "version": "3.10.2"
    },
    "vscode": {
      "interpreter": {
        "hash": "76d7c06053c3456e5600312cec90888656fc0ed30c03d8425b9dac6e4fc8e014"
      }
    }
  },
  "nbformat": 4,
  "nbformat_minor": 0
}
