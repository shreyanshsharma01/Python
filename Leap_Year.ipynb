{
  "nbformat": 4,
  "nbformat_minor": 0,
  "metadata": {
    "colab": {
      "provenance": [],
      "authorship_tag": "ABX9TyNVfi6zhrHd1xQt2v3mlmUG",
      "include_colab_link": true
    },
    "kernelspec": {
      "name": "python3",
      "display_name": "Python 3"
    },
    "language_info": {
      "name": "python"
    }
  },
  "cells": [
    {
      "cell_type": "markdown",
      "metadata": {
        "id": "view-in-github",
        "colab_type": "text"
      },
      "source": [
        "<a href=\"https://colab.research.google.com/github/shreyanshsharma01/Python/blob/main/Leap_Year.ipynb\" target=\"_parent\"><img src=\"https://colab.research.google.com/assets/colab-badge.svg\" alt=\"Open In Colab\"/></a>"
      ]
    },
    {
      "cell_type": "code",
      "execution_count": null,
      "metadata": {
        "id": "yEA9-15fIT7E"
      },
      "outputs": [],
      "source": [
        "year = int(input(\"Enter year: \"))\n",
        "if(year%4 == 0):\n",
        "  if(year%100 == 0):\n",
        "    if(year%400 == 0):\n",
        "      print(\"Its a leap year\")\n",
        "    else:\n",
        "      print(\"Not a leap year\")\n",
        "  else:\n",
        "    print(\"Its a leap year\")\n",
        "else:\n",
        "  print(\"Not a  leap year\")   "
      ]
    }
  ]
}