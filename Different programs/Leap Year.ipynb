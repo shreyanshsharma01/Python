year = int(input("enter year")
         
