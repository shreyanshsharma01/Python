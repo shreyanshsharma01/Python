{
 "cells": [
  {
   "cell_type": "code",
   "execution_count": 1,
   "metadata": {},
   "outputs": [
    {
     "name": "stdout",
     "output_type": "stream",
     "text": [
      "enter no.5\n",
      "5 is prime\n"
     ]
    }
   ],
   "source": [
    "num = int(input(\"enter no.\"))\n",
    "count = 0\n",
    "\n",
    "if num>1:\n",
    "    for i in range(1,num+1):\n",
    "        if (num%i==0):\n",
    "            count = count+1\n",
    "    if (count==2):\n",
    "        print(f\"{num} is prime\")\n",
    "    else:\n",
    "        print(f\"{num} is not prime\")"
   ]
  },
  {
   "cell_type": "code",
   "execution_count": null,
   "metadata": {},
   "outputs": [],
   "source": []
  }
 ],
 "metadata": {
  "kernelspec": {
   "display_name": "Python 3",
   "language": "python",
   "name": "python3"
  },
  "language_info": {
   "codemirror_mode": {
    "name": "ipython",
    "version": 3
   },
   "file_extension": ".py",
   "mimetype": "text/x-python",
   "name": "python",
   "nbconvert_exporter": "python",
   "pygments_lexer": "ipython3",
   "version": "3.7.6"
  }
 },
 "nbformat": 4,
 "nbformat_minor": 4
}
