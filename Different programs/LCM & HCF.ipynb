{
 "cells": [
  {
   "cell_type": "markdown",
   "metadata": {},
   "source": [
    "### LCM of two no."
   ]
  },
  {
   "cell_type": "code",
   "execution_count": 4,
   "metadata": {},
   "outputs": [
    {
     "name": "stdout",
     "output_type": "stream",
     "text": [
      "enter first no: 5\n",
      "enter second no: 7\n",
      "LCM of 5 & 7: 35\n"
     ]
    }
   ],
   "source": [
    "# LCM = Least Common Multiple\n",
    "a = int(input(\"enter first no: \"))\n",
    "b = int(input(\"enter second no: \"))\n",
    "\n",
    "def lcm(a,b):\n",
    "    if a>b:\n",
    "        big = a\n",
    "    else:\n",
    "        big = b\n",
    "    \n",
    "    while True:\n",
    "        if (big % a ==0) and (big % b == 0): #to check if divisible by both a&b\n",
    "            break\n",
    "        else:\n",
    "            big = big + 1 #increasing the value till it divides by both a&b\n",
    "    return big\n",
    "\n",
    "print(f\"LCM of {a} & {b}: {lcm(a,b)}\")"
   ]
  },
  {
   "cell_type": "markdown",
   "metadata": {},
   "source": [
    "### HCF of two no."
   ]
  },
  {
   "cell_type": "code",
   "execution_count": 7,
   "metadata": {},
   "outputs": [
    {
     "name": "stdout",
     "output_type": "stream",
     "text": [
      "enter first no: 5\n",
      "enter second no: 10\n",
      "HCF of 5 & 10: 5\n"
     ]
    }
   ],
   "source": [
    "a = int(input(\"enter first no: \"))\n",
    "b = int(input(\"enter second no: \"))\n",
    "\n",
    "def hcf(a,b):\n",
    "    if a<b:\n",
    "        low = a\n",
    "    else:\n",
    "        low = b\n",
    "    for i in range(1,low+1):\n",
    "        if (a % i == 0) and (b % i == 0):\n",
    "            hcf = i\n",
    "    return hcf\n",
    "\n",
    "print(f\"HCF of {a} & {b}: {hcf(a,b)}\")"
   ]
  },
  {
   "cell_type": "code",
   "execution_count": null,
   "metadata": {},
   "outputs": [],
   "source": []
  }
 ],
 "metadata": {
  "kernelspec": {
   "display_name": "Python 3",
   "language": "python",
   "name": "python3"
  },
  "language_info": {
   "codemirror_mode": {
    "name": "ipython",
    "version": 3
   },
   "file_extension": ".py",
   "mimetype": "text/x-python",
   "name": "python",
   "nbconvert_exporter": "python",
   "pygments_lexer": "ipython3",
   "version": "3.7.6"
  }
 },
 "nbformat": 4,
 "nbformat_minor": 4
}
