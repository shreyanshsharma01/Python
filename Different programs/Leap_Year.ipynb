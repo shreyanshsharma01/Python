{
  "nbformat": 4,
  "nbformat_minor": 0,
  "metadata": {
    "colab": {
      "provenance": []
    },
    "kernelspec": {
      "name": "python3",
      "display_name": "Python 3"
    },
    "language_info": {
      "name": "python"
    }
  },
  "cells": [
    {
      "cell_type": "code",
      "execution_count": 1,
      "metadata": {
        "colab": {
          "base_uri": "https://localhost:8080/"
        },
        "id": "yEA9-15fIT7E",
        "outputId": "a2a3c70c-d1cd-40dc-c982-91cc1cd29a42"
      },
      "outputs": [
        {
          "output_type": "stream",
          "name": "stdout",
          "text": [
            "Enter year: 2014\n",
            "Not a  leap year\n"
          ]
        }
      ],
      "source": [
        "year = int(input(\"Enter year: \"))\n",
        "if(year%4 == 0):\n",
        "  if(year%100 == 0):\n",
        "    if(year%400 == 0):\n",
        "      print(\"Its a leap year\")\n",
        "    else:\n",
        "      print(\"Not a leap year\")\n",
        "  else:\n",
        "    print(\"Its a leap year\")\n",
        "else:\n",
        "  print(\"Not a  leap year\")   "
      ]
    },
    {
      "cell_type": "code",
      "source": [],
      "metadata": {
        "id": "v-uoqkCiJnL8"
      },
      "execution_count": null,
      "outputs": []
    }
  ]
}