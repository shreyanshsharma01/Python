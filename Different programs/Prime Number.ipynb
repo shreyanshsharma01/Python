{
 "cell_type": "markdown",
 "metadata": {},
 "source": [
  "### Prime no. or not"
 ]
},
{
 "cells": [
  {
   "cell_type": "code",
   "execution_count": 1,
   "metadata": {},
   "outputs": [
    {
     "name": "stdout",
     "output_type": "stream",
     "text": [
      "enter no.5\n",
      "5 is prime\n"
     ]
    }
   ],
   "source": [
    "num = int(input(\"enter no.\"))\n",
    "count = 0\n",
    "\n",
    "if num>1:\n",
    "    for i in range(1,num+1):\n",
    "        if (num%i==0):\n",
    "            count = count+1\n",
    "    if (count==2):\n",
    "        print(f\"{num} is prime\")\n",
    "    else:\n",
    "        print(f\"{num} is not prime\")"
   ]
  },
  {
   "cell_type": "markdown",
   "metadata": {},
   "source": [
    "### Print all prime no within an interval"
   ]
  },
  {
   "cell_type": "code",
   "execution_count": 17,
   "metadata": {},
   "outputs": [
    {
     "name": "stdout",
     "output_type": "stream",
     "text": [
      "2\n",
      "3\n",
      "5\n",
      "7\n"
     ]
    }
   ],
   "source": [
    "# within (1 - 10)\n",
    "for num in range(1,11):\n",
    "    if num>1: #all prime no are greater than 1\n",
    "        for i in range(2,num): #Run a loop starting from 2 (since 1 is not a prime number)\n",
    "            if (num%i==0):     # to the number to check for factors\n",
    "                break\n",
    "        else:\n",
    "            print(num)"
   ]
  },
  {
   "cell_type": "code",
   "execution_count": null,
   "metadata": {},
   "outputs": [],
   "source": []
  }
 ],
 "metadata": {
  "kernelspec": {
   "display_name": "Python 3",
   "language": "python",
   "name": "python3"
  },
  "language_info": {
   "codemirror_mode": {
    "name": "ipython",
    "version": 3
   },
   "file_extension": ".py",
   "mimetype": "text/x-python",
   "name": "python",
   "nbconvert_exporter": "python",
   "pygments_lexer": "ipython3",
   "version": "3.7.6"
  }
 },
 "nbformat": 4,
 "nbformat_minor": 4
}
