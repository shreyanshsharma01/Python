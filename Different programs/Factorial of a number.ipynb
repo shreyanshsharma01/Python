{
 "cells": [
  {
   "cell_type": "code",
   "execution_count": 3,
   "metadata": {},
   "outputs": [
    {
     "name": "stdout",
     "output_type": "stream",
     "text": [
      "enter num5\n",
      "factorial of number: 120\n"
     ]
    }
   ],
   "source": [
    "# 5! = 1*2*3*4*5\n",
    "# factorial using loop\n",
    "\n",
    "num = int(input(\"enter num\"))\n",
    "fact = 1\n",
    "if num<0:\n",
    "    print(\"factorial doesn't exist\")\n",
    "elif num==0:\n",
    "    print(f\"factorial of number: {fact}\")\n",
    "else:\n",
    "    for i in range(1,num+1):\n",
    "        fact=i*fact\n",
    "    print(f\"factorial of number: {fact}\")"
   ]
  },
  {
   "cell_type": "code",
   "execution_count": 6,
   "metadata": {},
   "outputs": [
    {
     "name": "stdout",
     "output_type": "stream",
     "text": [
      "enter num: 5\n",
      "factorial of number: 120\n"
     ]
    }
   ],
   "source": [
    "#factorial using recursion : 5! = 5*4*3*2*1\n",
    "num = int(input(\"enter num: \"))\n",
    "fact = 1\n",
    "def fact(num):\n",
    "    if (num==1 or num==0):\n",
    "        return 1\n",
    "    else:\n",
    "        return num*fact(num-1)\n",
    "print(f\"factorial of number: {fact(num)}\")"
   ]
  },
  {
   "cell_type": "code",
   "execution_count": null,
   "metadata": {},
   "outputs": [],
   "source": []
  }
 ],
 "metadata": {
  "kernelspec": {
   "display_name": "Python 3",
   "language": "python",
   "name": "python3"
  },
  "language_info": {
   "codemirror_mode": {
    "name": "ipython",
    "version": 3
   },
   "file_extension": ".py",
   "mimetype": "text/x-python",
   "name": "python",
   "nbconvert_exporter": "python",
   "pygments_lexer": "ipython3",
   "version": "3.7.6"
  }
 },
 "nbformat": 4,
 "nbformat_minor": 4
}
