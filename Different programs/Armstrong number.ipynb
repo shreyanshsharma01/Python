{
 "cells": [
  {
   "cell_type": "code",
   "execution_count": 1,
   "metadata": {},
   "outputs": [
    {
     "name": "stdout",
     "output_type": "stream",
     "text": [
      "enter digits of number: 3\n",
      "enter number: 153\n",
      "yes! 153 is an armstrong no\n"
     ]
    }
   ],
   "source": [
    "# ArmstrongNumber = sum of cube of its individual nos.\n",
    "\n",
    "dig = int(input(\"enter digits of number: \"))\n",
    "num = int(input(\"enter number: \"))\n",
    "sum = 0\n",
    "temp = num # putting n value to temp variable as n value changes while performing loop\n",
    "for i in range(0,dig):\n",
    "    rem = num%10 #accessing the last digit\n",
    "    sum  = sum+(rem**3)\n",
    "    num=num//10\n",
    "if (temp==sum):\n",
    "    print(f\"yes! {temp} is an armstrong no\")\n",
    "else:\n",
    "    print(f\"Not an armstrong no\")"
   ]
  },
  {
   "cell_type": "markdown",
   "metadata": {},
   "source": [
    "####  Write a Python Program to Find Armstrong Number in an Interval?ṁ"
   ]
  },
  {
   "cell_type": "code",
   "execution_count": 2,
   "metadata": {},
   "outputs": [
    {
     "name": "stdout",
     "output_type": "stream",
     "text": [
      "enter lower limit: 100\n",
      "enter upper limit: 500\n",
      "From 100 to 500 the Armstrong nos are: \n",
      "153 370 371 407 "
     ]
    }
   ],
   "source": [
    "lower = int(input(\"enter lower limit: \"))\n",
    "upper = int(input(\"enter upper limit: \"))\n",
    "print(f\"From {lower} to {upper} the Armstrong nos are: \")\n",
    "for num in range(lower,upper+1):\n",
    "    sum = 0\n",
    "    temp = num\n",
    "    while(num>0):\n",
    "        rem = num % 10\n",
    "        sum = sum + (rem**3)\n",
    "        num = num//10\n",
    "        \n",
    "    if (temp == sum):\n",
    "        print(f\"{sum}\",end = ' ')"
   ]
  },
  {
   "cell_type": "code",
   "execution_count": null,
   "metadata": {},
   "outputs": [],
   "source": []
  }
 ],
 "metadata": {
  "kernelspec": {
   "display_name": "Python 3",
   "language": "python",
   "name": "python3"
  },
  "language_info": {
   "codemirror_mode": {
    "name": "ipython",
    "version": 3
   },
   "file_extension": ".py",
   "mimetype": "text/x-python",
   "name": "python",
   "nbconvert_exporter": "python",
   "pygments_lexer": "ipython3",
   "version": "3.7.6"
  }
 },
 "nbformat": 4,
 "nbformat_minor": 4
}
