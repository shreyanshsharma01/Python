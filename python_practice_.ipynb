{
  "nbformat": 4,
  "nbformat_minor": 0,
  "metadata": {
    "colab": {
      "provenance": [],
      "collapsed_sections": [
        "7UA__yilBB1E",
        "CAdIhrzAYUSS",
        "qXeB8kKjaGlc",
        "vp9Oitzhi9a1",
        "-EQOxv1GZ2nQ"
      ]
    },
    "kernelspec": {
      "name": "python3",
      "display_name": "Python 3"
    },
    "language_info": {
      "name": "python"
    }
  },
  "cells": [
    {
      "cell_type": "markdown",
      "source": [
        "## 1. Swap two no.\n"
      ],
      "metadata": {
        "id": "iWWJ_J0Ua0Yi"
      }
    },
    {
      "cell_type": "code",
      "source": [
        "a = int(input(\"enter a number \"))\n",
        "b = int(input(\"enter a number \"))\n",
        "print(f\"value of no. a = {a} before swapping\")\n",
        "print(f\"value of no. b = {b} before swapping\")\n",
        "\n",
        "#Approach 1\n",
        "temp = a\n",
        "a = b\n",
        "b = temp \n",
        "'''\n",
        "# Approach 2 \n",
        "a,b = b,a\n",
        "'''\n",
        "\n",
        "print(f\"value of no. a = {a} after swapping \")\n",
        "print(f\"value of no. b = {b} after swapping\")"
      ],
      "metadata": {
        "colab": {
          "base_uri": "https://localhost:8080/"
        },
        "id": "8qLZ8HjWanYt",
        "outputId": "bf8b156c-c757-454e-d74e-f8db9ade255f"
      },
      "execution_count": null,
      "outputs": [
        {
          "output_type": "stream",
          "name": "stdout",
          "text": [
            "enter a number 5\n",
            "enter a number 8\n",
            "value of no. a = 5 before swapping\n",
            "value of no. b = 8 before swapping\n",
            "value of no. a = 8 after swapping \n",
            "value of no. b = 5 after swapping\n"
          ]
        }
      ]
    },
    {
      "cell_type": "markdown",
      "source": [
        "## 2. Prime no or not"
      ],
      "metadata": {
        "id": "EB58WUeGfNkP"
      }
    },
    {
      "cell_type": "code",
      "execution_count": null,
      "metadata": {
        "colab": {
          "base_uri": "https://localhost:8080/"
        },
        "id": "mi0pCrV7WEzQ",
        "outputId": "bbcb557d-4c72-4434-9ad2-21ca8ec4fb18"
      },
      "outputs": [
        {
          "output_type": "stream",
          "name": "stdout",
          "text": [
            "enter a no. 7\n",
            "7 is prime no.\n"
          ]
        }
      ],
      "source": [
        "num = int(input(\"enter a no. \"))\n",
        "count = 0\n",
        "\n",
        "if num>1:\n",
        "    for i in range(1,num+1):\n",
        "        if num%i == 0:\n",
        "            count = count + 1\n",
        "    if count==2:\n",
        "        print(f\"{num} is prime no.\")\n",
        "    else:\n",
        "        print(f\"{num} is not prime no.\")"
      ]
    },
    {
      "cell_type": "markdown",
      "source": [
        "## 3. Factorial of a no.\n",
        "5! = 1 * 2 * 3 * 4 * 5"
      ],
      "metadata": {
        "id": "Px_T6HNynBXE"
      }
    },
    {
      "cell_type": "markdown",
      "source": [
        "factorial using loop"
      ],
      "metadata": {
        "id": "x_O44U81kKbq"
      }
    },
    {
      "cell_type": "code",
      "source": [
        "num = int(input(\"enter a no. \"))\n",
        "fact = 1\n",
        "if num<0:\n",
        "    print(\"factorial doesn't exist\")\n",
        "elif num == 0:\n",
        "    print(f\"Factorial of {num} is {fact}\")  \n",
        "\n",
        "else:\n",
        "    for i in range(1,num+1):\n",
        "        fact = i*fact\n",
        "    print(f\"Factorial of {num} is {fact}\")\n",
        "    "
      ],
      "metadata": {
        "colab": {
          "base_uri": "https://localhost:8080/"
        },
        "id": "kTBvpf4MgZEt",
        "outputId": "c3198844-b17a-451b-d783-a82dc6bdef62"
      },
      "execution_count": null,
      "outputs": [
        {
          "output_type": "stream",
          "name": "stdout",
          "text": [
            "enter a no. 4\n",
            "Factorial of 4 is 24\n"
          ]
        }
      ]
    },
    {
      "cell_type": "markdown",
      "source": [
        "factorial using recursion : 5! = 5 * 4 * 3 * 2 * 1"
      ],
      "metadata": {
        "id": "_G8Uyvm2kPo8"
      }
    },
    {
      "cell_type": "code",
      "source": [
        "num = int(input(\"enter a no. \"))\n",
        "fact = 1\n",
        "\n",
        "def fact(num):\n",
        "    if num<=1:    #base condition\n",
        "        return 1\n",
        "    else:    \n",
        "        return num*fact(num-1)\n",
        "'''\n",
        "or using ternary approach\n",
        "  return 1 if (num == 1 or num ==0) else return num*fact(num-1)\n",
        "'''       \n",
        "\n",
        "print(f\"Factorial of {num} is {fact(num)}\")    "
      ],
      "metadata": {
        "colab": {
          "base_uri": "https://localhost:8080/"
        },
        "id": "cnifHtyZo80s",
        "outputId": "b3274806-ae5a-4dc2-8ca4-46ee305572eb"
      },
      "execution_count": null,
      "outputs": [
        {
          "output_type": "stream",
          "name": "stdout",
          "text": [
            "enter a no. 4\n",
            "Factorial of 4 is 24\n"
          ]
        }
      ]
    },
    {
      "cell_type": "markdown",
      "source": [
        "## 4. Fibonacci series: 0 1 1 2 3 5 8 13 21 ..."
      ],
      "metadata": {
        "id": "mrUJcC55yZo1"
      }
    },
    {
      "cell_type": "markdown",
      "source": [
        "Approach 1: using loop"
      ],
      "metadata": {
        "id": "J_0xvO-Rke-s"
      }
    },
    {
      "cell_type": "code",
      "source": [
        "num = int(input(\"enter no. of terms for fibonacci series \"))\n",
        "a=0\n",
        "b=1\n",
        "\n",
        "print(f\"{a}\\n{b}\")\n",
        "for i in range(2,num):\n",
        "    c = a+b\n",
        "    print(f\"{c}\")\n",
        "    a=b\n",
        "    b=c"
      ],
      "metadata": {
        "colab": {
          "base_uri": "https://localhost:8080/"
        },
        "id": "R41gXUVbvgdw",
        "outputId": "5638cc20-9718-45f4-ada0-f01ad12035bc"
      },
      "execution_count": null,
      "outputs": [
        {
          "output_type": "stream",
          "name": "stdout",
          "text": [
            "enter no. of terms for fibonacci series 5\n",
            "0\n",
            "1\n",
            "1\n",
            "2\n",
            "3\n"
          ]
        }
      ]
    },
    {
      "cell_type": "markdown",
      "source": [
        "Approach 2: using recursion"
      ],
      "metadata": {
        "id": "yLsIjIDMkjW1"
      }
    },
    {
      "cell_type": "code",
      "source": [
        "num = int(input(\"enter no. of terms for fibonacci series \"))\n",
        "first = 0\n",
        "second = 1\n",
        "\n",
        "def fib(num):\n",
        "    if (num == 0):   #base condition \n",
        "        return 0\n",
        "    elif (num == 1): #base condition\n",
        "         return 1 \n",
        "    else:  \n",
        "        return fib(num-1) + fib(num-2)\n",
        "print(f\"Fibonacci term: {fib(num-1)}\")#(num-1) because series starts from 0 so till n-1 just like in range\n",
        "for i in range(0,num):\n",
        "    print(fib(i))"
      ],
      "metadata": {
        "colab": {
          "base_uri": "https://localhost:8080/"
        },
        "id": "PsNyRrhbkvIi",
        "outputId": "5ad26049-55f2-423f-d8b7-43aa577c7dc8"
      },
      "execution_count": 45,
      "outputs": [
        {
          "output_type": "stream",
          "name": "stdout",
          "text": [
            "enter no. of terms for fibonacci series 5\n",
            "Fibonacci term: 3\n",
            "0\n",
            "1\n",
            "1\n",
            "2\n",
            "3\n"
          ]
        }
      ]
    },
    {
      "cell_type": "markdown",
      "source": [
        "## 5. Get a list as input from user"
      ],
      "metadata": {
        "id": "ZZWYQql25_xk"
      }
    },
    {
      "cell_type": "code",
      "source": [
        "# creating an empty list\n",
        "lst = []\n",
        "  \n",
        "# number of elements as input\n",
        "n = int(input(\"Enter number of elements : \"))\n",
        "  \n",
        "# iterating till the range\n",
        "for i in range(0, n):\n",
        "    ele = int(input())\n",
        "    lst.append(ele) # adding the element\n",
        "      \n",
        "print(lst)"
      ],
      "metadata": {
        "colab": {
          "base_uri": "https://localhost:8080/"
        },
        "id": "xFaDZtzV6B1u",
        "outputId": "27000943-3ef2-4a82-ebcb-a2a4928afe8c"
      },
      "execution_count": null,
      "outputs": [
        {
          "output_type": "stream",
          "name": "stdout",
          "text": [
            "Enter number of elements : 4\n",
            "2\n",
            "4\n",
            "6\n",
            "8\n",
            "[2, 4, 6, 8]\n"
          ]
        }
      ]
    },
    {
      "cell_type": "code",
      "source": [
        "lst = []\n",
        "n = int(input(\"enter no. of elements: \"))\n",
        "for i in range(0,n):\n",
        "    ele = int(input())\n",
        "    lst.append(ele)\n",
        "print(lst)\n"
      ],
      "metadata": {
        "colab": {
          "base_uri": "https://localhost:8080/"
        },
        "id": "s2wfaoJ58UKs",
        "outputId": "952c3e12-efef-4052-983c-e43f46fbdd0e"
      },
      "execution_count": null,
      "outputs": [
        {
          "output_type": "stream",
          "name": "stdout",
          "text": [
            "enter no. of elements: 5\n",
            "1\n",
            "2\n",
            "3\n",
            "4\n",
            "5\n",
            "[1, 2, 3, 4, 5]\n"
          ]
        }
      ]
    },
    {
      "cell_type": "markdown",
      "source": [
        "## 6. Sum of elements of array/list"
      ],
      "metadata": {
        "id": "ZIaGA0tr3WmS"
      }
    },
    {
      "cell_type": "code",
      "source": [
        "ar1 = [2,4,6,8]\n",
        "sum = 0\n",
        "for i in range(0,len(ar1)):\n",
        "    sum = ar1[i] + sum\n",
        "print(f\"Sum of elements is {sum}\")    "
      ],
      "metadata": {
        "colab": {
          "base_uri": "https://localhost:8080/"
        },
        "id": "nQJ_NvyB1Qqw",
        "outputId": "08051896-9611-4cc9-9b29-35b70b5c9ef0"
      },
      "execution_count": null,
      "outputs": [
        {
          "output_type": "stream",
          "name": "stdout",
          "text": [
            "Sum of elements is 20\n"
          ]
        }
      ]
    },
    {
      "cell_type": "code",
      "source": [
        "lst = []\n",
        "n = int(input(\"enter no. of elements: \"))\n",
        "for i in range(0,n):\n",
        "    ele = int(input())\n",
        "    lst.append(ele)\n",
        "print(f\"Array/list is {lst}\")\n",
        "sum = 0\n",
        "\n",
        "for i in range(0,n):\n",
        "    sum = lst[i] + sum\n",
        "    \n",
        "print(f\"Sum of elements is {sum}\") "
      ],
      "metadata": {
        "colab": {
          "base_uri": "https://localhost:8080/"
        },
        "id": "Qcycy_qs5Roi",
        "outputId": "0632a38e-c17f-42f5-c923-3bfbd2671733"
      },
      "execution_count": null,
      "outputs": [
        {
          "output_type": "stream",
          "name": "stdout",
          "text": [
            "enter no. of elements: 4\n",
            "1\n",
            "2\n",
            "3\n",
            "4\n",
            "Array/list is [1, 2, 3, 4]\n",
            "Sum of elements is 10\n"
          ]
        }
      ]
    },
    {
      "cell_type": "markdown",
      "source": [
        "## 7. Maximum & Minimum element in an array/list\n",
        "Max"
      ],
      "metadata": {
        "id": "7UA__yilBB1E"
      }
    },
    {
      "cell_type": "code",
      "source": [
        "arr = [2,4,15,8,3]\n",
        "max = arr[0]\n",
        "\n",
        "for i in range(0,len(arr)):\n",
        "    if arr[i]>max:\n",
        "        max=arr[i]\n",
        "        \n",
        "print(f\"Max element is {max}\")"
      ],
      "metadata": {
        "colab": {
          "base_uri": "https://localhost:8080/"
        },
        "id": "PlsbKWTG51Pv",
        "outputId": "85794493-7df4-4e31-fd2f-4ce6864e2857"
      },
      "execution_count": null,
      "outputs": [
        {
          "output_type": "stream",
          "name": "stdout",
          "text": [
            "Max element is 15\n"
          ]
        }
      ]
    },
    {
      "cell_type": "markdown",
      "source": [
        "Min"
      ],
      "metadata": {
        "id": "QzQPXYY_Xmz9"
      }
    },
    {
      "cell_type": "code",
      "source": [
        "arr = [2,4,15,8,3]\n",
        "min = arr[0]\n",
        "for i in range(0,len(arr)):\n",
        "    if arr[i]<min:\n",
        "        min=arr[i]\n",
        "print(f\"Min element is {min}\")"
      ],
      "metadata": {
        "colab": {
          "base_uri": "https://localhost:8080/"
        },
        "id": "KUReVwoIWOJV",
        "outputId": "bd1b053a-25de-4004-c869-780a0e9d3835"
      },
      "execution_count": null,
      "outputs": [
        {
          "output_type": "stream",
          "name": "stdout",
          "text": [
            "Min element is 2\n"
          ]
        }
      ]
    },
    {
      "cell_type": "markdown",
      "source": [
        "## 8. Length of a list"
      ],
      "metadata": {
        "id": "CAdIhrzAYUSS"
      }
    },
    {
      "cell_type": "markdown",
      "source": [
        "approach 1"
      ],
      "metadata": {
        "id": "Q__Rb1V7YXOr"
      }
    },
    {
      "cell_type": "code",
      "source": [
        "lst = [1,5,6,7,9,4,2]\n",
        "count = 0\n",
        "\n",
        "for i in lst:\n",
        "    count = count + 1\n",
        "    \n",
        "print(f\"Length of list: {count}\")    "
      ],
      "metadata": {
        "colab": {
          "base_uri": "https://localhost:8080/"
        },
        "id": "s_AgIYqnXSVS",
        "outputId": "390d6dfe-aaae-4deb-de37-1481b862884d"
      },
      "execution_count": null,
      "outputs": [
        {
          "output_type": "stream",
          "name": "stdout",
          "text": [
            "Length of list: 7\n"
          ]
        }
      ]
    },
    {
      "cell_type": "markdown",
      "source": [
        "approach 2: using len() built in function "
      ],
      "metadata": {
        "id": "bzGPzhZnZxm1"
      }
    },
    {
      "cell_type": "code",
      "source": [
        "print(f\"Length of list: {len(lst)}\")"
      ],
      "metadata": {
        "colab": {
          "base_uri": "https://localhost:8080/"
        },
        "id": "0aHmBRqMY1ag",
        "outputId": "ccde4513-e045-4239-9fdd-603ae9756c96"
      },
      "execution_count": null,
      "outputs": [
        {
          "output_type": "stream",
          "name": "stdout",
          "text": [
            "Length of list: 7\n"
          ]
        }
      ]
    },
    {
      "cell_type": "markdown",
      "source": [
        "## 8. Swap first & last element of list/array\n",
        "approach 1 \n"
      ],
      "metadata": {
        "id": "qXeB8kKjaGlc"
      }
    },
    {
      "cell_type": "code",
      "source": [
        "arr = []\n",
        "n = int(input(\"enter no. of elements: \"))\n",
        "for i in range(0,n):\n",
        "    ele =int(input())\n",
        "    arr.append(ele)\n",
        "print(arr)    \n",
        "temp = 0\n",
        "\n",
        "temp = arr[0]  # index starts from 0\n",
        "arr[0] = arr[n-1]\n",
        "arr[n-1] = temp\n",
        "\n",
        "print(f\"After swapping: {arr}\")"
      ],
      "metadata": {
        "colab": {
          "base_uri": "https://localhost:8080/"
        },
        "id": "8oUsE0-mZ8OK",
        "outputId": "185cb8e8-e8ce-48a8-d83a-85fc556af9b9"
      },
      "execution_count": null,
      "outputs": [
        {
          "output_type": "stream",
          "name": "stdout",
          "text": [
            "enter no. of elements: 4\n",
            "1\n",
            "2\n",
            "3\n",
            "4\n",
            "[1, 2, 3, 4]\n",
            "After swapping: [4, 2, 3, 1]\n"
          ]
        }
      ]
    },
    {
      "cell_type": "markdown",
      "source": [
        "approach 2"
      ],
      "metadata": {
        "id": "WB5lvhD9cQSO"
      }
    },
    {
      "cell_type": "code",
      "source": [
        "arr = []\n",
        "n = int(input(\"enter no. of elements: \"))\n",
        "for i in range(0,n):\n",
        "    ele =int(input())\n",
        "    arr.append(ele)\n",
        "print(arr)    \n",
        "\n",
        "arr[0],arr[n-1] = arr[n-1],arr[0]\n",
        "\n",
        "print(f\"After swapping: {arr}\")"
      ],
      "metadata": {
        "colab": {
          "base_uri": "https://localhost:8080/"
        },
        "id": "5Z8MkHBsa3KZ",
        "outputId": "fa3764cd-8ec9-466e-e5a3-671f0b799a4b"
      },
      "execution_count": null,
      "outputs": [
        {
          "output_type": "stream",
          "name": "stdout",
          "text": [
            "enter no. of elements: 3\n",
            "1\n",
            "2\n",
            "3\n",
            "[1, 2, 3]\n",
            "After swapping: [3, 2, 1]\n"
          ]
        }
      ]
    },
    {
      "cell_type": "markdown",
      "source": [
        "approach 3: using tuple variable"
      ],
      "metadata": {
        "id": "JJ0gFu26dwzj"
      }
    },
    {
      "cell_type": "code",
      "source": [
        "mylist = [1,5,6,7,9,4,2]\n",
        "\n",
        "get = (mylist[-1],mylist[0]) # packing \n",
        "mylist[0],mylist[-1] = get\n",
        "\n",
        "print(f\"After swapping: {mylist}\")"
      ],
      "metadata": {
        "colab": {
          "base_uri": "https://localhost:8080/"
        },
        "id": "Qh1X_uqxdN45",
        "outputId": "cf70a6f3-646c-466f-baa6-1b210988ef58"
      },
      "execution_count": null,
      "outputs": [
        {
          "output_type": "stream",
          "name": "stdout",
          "text": [
            "After swapping: [2, 5, 6, 7, 9, 4, 1]\n"
          ]
        }
      ]
    },
    {
      "cell_type": "markdown",
      "source": [
        "approach 4: using * operand"
      ],
      "metadata": {
        "id": "PbLH4vdRfjk3"
      }
    },
    {
      "cell_type": "code",
      "source": [
        "mylist = [1,5,6,7,9,4,2]\n",
        "first,*middle,last = mylist #break into 3 different variables using * operand\n",
        "mylist = [last,*middle,first] #swap first & last element\n",
        "\n",
        "print(f\"After swapping: {mylist}\")"
      ],
      "metadata": {
        "colab": {
          "base_uri": "https://localhost:8080/"
        },
        "id": "LxjkFCXtduHX",
        "outputId": "619a1df5-02fc-4a02-e4f9-1d2abe0f1ccf"
      },
      "execution_count": null,
      "outputs": [
        {
          "output_type": "stream",
          "name": "stdout",
          "text": [
            "After swapping: [2, 5, 6, 7, 9, 4, 1]\n"
          ]
        }
      ]
    },
    {
      "cell_type": "markdown",
      "source": [
        "approach 5: using pop() built in function"
      ],
      "metadata": {
        "id": "C9g-PjJSg0l4"
      }
    },
    {
      "cell_type": "code",
      "source": [
        "mylist = [1,5,6,7,9,4,2]\n",
        "\n",
        "first = mylist.pop(0)\n",
        "last = mylist.pop(-1)\n",
        "\n",
        "mylist.insert(0,last)# 0 is the index where element is to be addded #inserting last element at first \n",
        "mylist.append(first) #appending first element to the last\n",
        "\n",
        "print(f\"After swapping: {mylist}\")"
      ],
      "metadata": {
        "colab": {
          "base_uri": "https://localhost:8080/"
        },
        "id": "PVKzICtSfyvN",
        "outputId": "95e83191-512b-44af-d995-4db4bb50456d"
      },
      "execution_count": null,
      "outputs": [
        {
          "output_type": "stream",
          "name": "stdout",
          "text": [
            "After swapping: [2, 5, 6, 7, 9, 4, 1]\n"
          ]
        }
      ]
    },
    {
      "cell_type": "markdown",
      "source": [
        "## 9. Swap any two elements in a list\n",
        "Input : List = [23, 65, 19, 90] posl = 1, pos2 =3\n",
        "\n",
        "Output : [19, 65, 23, 90]\n",
        "\n",
        "\n",
        "using list.pop() func"
      ],
      "metadata": {
        "id": "vp9Oitzhi9a1"
      }
    },
    {
      "cell_type": "code",
      "source": [
        "lst = [23, 65, 19, 90]\n",
        "pos1 = int(input(\"enter pos1: \"))\n",
        "pos2 = int(input(\"enter pos2: \"))\n",
        "\n",
        "first_ele = lst.pop(pos1) # element is popped out\n",
        "sec_ele = lst.pop(pos2 - 1) # now list has n-1 elements \n",
        "\n",
        "lst.insert(pos1,sec_ele)\n",
        "lst.insert(pos2,first_ele)\n",
        "\n",
        "print(lst)"
      ],
      "metadata": {
        "colab": {
          "base_uri": "https://localhost:8080/"
        },
        "id": "ozVW2aJnh-pH",
        "outputId": "c4e188a0-82c7-48f0-859c-c3c6f72cdee7"
      },
      "execution_count": null,
      "outputs": [
        {
          "output_type": "stream",
          "name": "stdout",
          "text": [
            "enter pos1: 2\n",
            "enter pos2: 3\n",
            "[23, 65, 90, 19]\n"
          ]
        }
      ]
    },
    {
      "cell_type": "markdown",
      "source": [
        "## 10. Remove Nth occurrence of the given word\n",
        "• Input: list = [\"geeks\", \"for\", \"geeks\"]\n",
        "  word = geeks, N = 2\n",
        "\n",
        "• Output: list = [\"geeks\", \"for\"]"
      ],
      "metadata": {
        "id": "lihthQaZoXJa"
      }
    },
    {
      "cell_type": "code",
      "source": [
        "mylst = [\"geeks\",\"for\",\"geeks\"]\n",
        "word = \"geeks\"\n",
        "n=2\n",
        "count = 0\n",
        "\n",
        "for i in range(0,len(mylst)):\n",
        "    if (mylst[i] == word):\n",
        "        count = count+1\n",
        "        if (count == n):\n",
        "            del(mylst[i]) \n",
        "            \n",
        "print(f\"updated list: {mylst}\")            "
      ],
      "metadata": {
        "colab": {
          "base_uri": "https://localhost:8080/"
        },
        "id": "YWNDcfHlrDO7",
        "outputId": "310d79f2-a2b5-478c-c6a5-e078a2c96c57"
      },
      "execution_count": null,
      "outputs": [
        {
          "output_type": "stream",
          "name": "stdout",
          "text": [
            "updated list: ['geeks', 'for']\n"
          ]
        }
      ]
    },
    {
      "cell_type": "markdown",
      "source": [
        "## 11. Search an element in a list\n",
        "appraoch 1: using loop"
      ],
      "metadata": {
        "id": "-EQOxv1GZ2nQ"
      }
    },
    {
      "cell_type": "code",
      "source": [
        "mylist = [1,6,3,5,3,4]\n",
        "n = int(input(\"enter no. for search: \"))\n",
        "count = 0\n",
        "\n",
        "for i in mylist:\n",
        "    if i == n:    \n",
        "        count = count + 1\n",
        "if(count >= 1):\n",
        "    print(f\"Element found & appeared {count} times\")\n",
        "else:\n",
        "    print(\"Element not found\") "
      ],
      "metadata": {
        "colab": {
          "base_uri": "https://localhost:8080/"
        },
        "id": "PNjLiaZry8rm",
        "outputId": "84da4c76-d003-4fa7-858a-b08e07001cce"
      },
      "execution_count": null,
      "outputs": [
        {
          "output_type": "stream",
          "name": "stdout",
          "text": [
            "enter no. for search: 6\n",
            "Element found & appeared 1 times\n"
          ]
        }
      ]
    },
    {
      "cell_type": "markdown",
      "source": [
        "approach 2: using in operator"
      ],
      "metadata": {
        "id": "Llht-KqkdH9D"
      }
    },
    {
      "cell_type": "code",
      "source": [
        " if (n in mylist):\n",
        "     print(f\"Element found & appeared {count} times\")\n",
        " else:\n",
        "     print(\"element not found\")    "
      ],
      "metadata": {
        "colab": {
          "base_uri": "https://localhost:8080/"
        },
        "id": "3tDbR_Y9apbY",
        "outputId": "a5fb1d79-8246-4bb3-92c3-220d6b4061f5"
      },
      "execution_count": null,
      "outputs": [
        {
          "output_type": "stream",
          "name": "stdout",
          "text": [
            "Element found & appeared 1 times\n"
          ]
        }
      ]
    },
    {
      "cell_type": "markdown",
      "source": [
        "## 12. How to clear a list\n"
      ],
      "metadata": {
        "id": "Up2E4nmjebRW"
      }
    },
    {
      "cell_type": "markdown",
      "source": [
        "Approach 1: using clear() method"
      ],
      "metadata": {
        "id": "M4l3R3E-eXt6"
      }
    },
    {
      "cell_type": "code",
      "source": [
        "mylist = [6,0,4,1]\n",
        "print(f\"List before clear: {mylist}\")\n",
        "mylist.clear()\n",
        "print(f\"List after clear: {mylist}\")"
      ],
      "metadata": {
        "colab": {
          "base_uri": "https://localhost:8080/"
        },
        "id": "fOPjkhxleXZc",
        "outputId": "95b7883b-898f-412a-d334-49f635545a98"
      },
      "execution_count": null,
      "outputs": [
        {
          "output_type": "stream",
          "name": "stdout",
          "text": [
            "List before clear: [6, 0, 4, 1]\n",
            "List after clear: []\n"
          ]
        }
      ]
    },
    {
      "cell_type": "markdown",
      "source": [
        "Approach 2: Initialise the list with no value"
      ],
      "metadata": {
        "id": "OlRF9BBLeOlc"
      }
    },
    {
      "cell_type": "code",
      "source": [
        "mylist = [6,0,4,1]\n",
        "print(f\"List before clear: {mylist}\")\n",
        "mylist = []\n",
        "print(f\"List after clear: {mylist}\")"
      ],
      "metadata": {
        "id": "Z_Rm92BYdhjB",
        "colab": {
          "base_uri": "https://localhost:8080/"
        },
        "outputId": "d6deab2f-6408-415e-df6d-061d18f97317"
      },
      "execution_count": null,
      "outputs": [
        {
          "output_type": "stream",
          "name": "stdout",
          "text": [
            "List before clear: [6, 0, 4, 1]\n",
            "List after clear: []\n"
          ]
        }
      ]
    },
    {
      "cell_type": "markdown",
      "source": [
        "Approach 3: Using \"*= 0\" this method removes all elements of the List and makes it empty."
      ],
      "metadata": {
        "id": "1fQBHIjpe1lq"
      }
    },
    {
      "cell_type": "code",
      "source": [
        "mylist = [6,0,4,1]\n",
        "print(f\"List before clear: {mylist}\")\n",
        "mylist *= 0\n",
        "print(f\"List after clear: {mylist}\")"
      ],
      "metadata": {
        "colab": {
          "base_uri": "https://localhost:8080/"
        },
        "id": "hSeu8WeleGs-",
        "outputId": "0254a4e8-6dd8-4fdd-8d62-c3422914ffc6"
      },
      "execution_count": null,
      "outputs": [
        {
          "output_type": "stream",
          "name": "stdout",
          "text": [
            "List before clear: [6, 0, 4, 1]\n",
            "List after clear: []\n"
          ]
        }
      ]
    },
    {
      "cell_type": "markdown",
      "source": [
        "Approach 4: using del() method, slicing"
      ],
      "metadata": {
        "id": "Bv0HxV5XfRvP"
      }
    },
    {
      "cell_type": "code",
      "source": [
        "mylist = [6,0,4,1]\n",
        "print(f\"List before clear: {mylist}\")\n",
        "del mylist[:] # deletes all the elements\n",
        "print(f\"List after clear: {mylist}\")"
      ],
      "metadata": {
        "colab": {
          "base_uri": "https://localhost:8080/"
        },
        "id": "On5J8c1PfOav",
        "outputId": "0e809dd6-9eec-49ce-976a-96f9c2afabee"
      },
      "execution_count": null,
      "outputs": [
        {
          "output_type": "stream",
          "name": "stdout",
          "text": [
            "List before clear: [6, 0, 4, 1]\n",
            "List after clear: []\n"
          ]
        }
      ]
    },
    {
      "cell_type": "markdown",
      "source": [
        "## 14. Reverse a list/array/string\n",
        "i/p = [10,11,12,13,14,15]  \n",
        "o/p = [15,14,13,12,11,10]"
      ],
      "metadata": {
        "id": "5QEBm76NERq8"
      }
    },
    {
      "cell_type": "markdown",
      "source": [
        "approach 1: using slicing [ : : -1 ]"
      ],
      "metadata": {
        "id": "Z1URRTn6F5SY"
      }
    },
    {
      "cell_type": "code",
      "source": [
        "lst = [10,11,12,13,14,15]\n",
        "lst[::-1]"
      ],
      "metadata": {
        "colab": {
          "base_uri": "https://localhost:8080/"
        },
        "id": "6gESdiTkfuJy",
        "outputId": "935273bf-0f16-4cfb-c4c7-877b11db5111"
      },
      "execution_count": null,
      "outputs": [
        {
          "output_type": "execute_result",
          "data": {
            "text/plain": [
              "[15, 14, 13, 12, 11, 10]"
            ]
          },
          "metadata": {},
          "execution_count": 38
        }
      ]
    },
    {
      "cell_type": "markdown",
      "source": [
        "Approach 2: using reverse() method"
      ],
      "metadata": {
        "id": "SrVwp4kRN_W4"
      }
    },
    {
      "cell_type": "code",
      "source": [
        "lst = [10,11,12,13,14,15]\n",
        "print(f\"Before reverse:{lst}\")\n",
        "rev = lst.reverse()\n",
        "print(f\"After reverse: {lst}\")"
      ],
      "metadata": {
        "colab": {
          "base_uri": "https://localhost:8080/"
        },
        "id": "ELUQ7kgkOD69",
        "outputId": "34aa208d-9ca8-4439-ce91-911083f9479b"
      },
      "execution_count": null,
      "outputs": [
        {
          "output_type": "stream",
          "name": "stdout",
          "text": [
            "Before reverse:[10, 11, 12, 13, 14, 15]\n",
            "After reverse: [15, 14, 13, 12, 11, 10]\n"
          ]
        }
      ]
    },
    {
      "cell_type": "markdown",
      "source": [
        "## 15. Reverse a no."
      ],
      "metadata": {
        "id": "1eqqVmlXG46l"
      }
    },
    {
      "cell_type": "markdown",
      "source": [
        "Approach 1: using loop"
      ],
      "metadata": {
        "id": "qNGWc6Q9KRsS"
      }
    },
    {
      "cell_type": "code",
      "source": [
        "dig = int(input(\"enter digit of a no: \"))\n",
        "num = int(input(\"enter a no: \"))\n",
        "rev = 0\n",
        "\n",
        "for i in range(0,dig):\n",
        "    rem = num%10        # accessing last digit of the number\n",
        "    rev = rev*10 + rem  # eg: 123 -> 3 -> 3x10 + 2 = 32 -> 32x10 + 1 = 321 \n",
        "    num = num//10\n",
        "print(f\"Reverse of num: {rev}\")    \n",
        "\n",
        "# **using while loop**\n",
        "# while(num!=0):\n",
        "#    rem = num%10  \n",
        "#    rev = rev*10 + rem \n",
        "#    num = int(num/10)\n"
      ],
      "metadata": {
        "colab": {
          "base_uri": "https://localhost:8080/"
        },
        "id": "R_jtGpN2Ejrj",
        "outputId": "9f16b7e6-2be4-4189-bc00-a80b02ce4110"
      },
      "execution_count": null,
      "outputs": [
        {
          "output_type": "stream",
          "name": "stdout",
          "text": [
            "enter digit of a no: 3\n",
            "enter a no: 123\n",
            "Reverse of num: 321\n"
          ]
        }
      ]
    },
    {
      "cell_type": "markdown",
      "source": [
        "Approach 2: using **recursion**"
      ],
      "metadata": {
        "id": "rNr_YFVjPtAO"
      }
    },
    {
      "cell_type": "code",
      "source": [
        "n = int(input(\"enter no: \"))\n",
        "rev = 0    \n",
        "\n",
        "def reverse(n):\n",
        "    global rev\n",
        "    if(n==0):       # base condition\n",
        "        return rev\n",
        "    else: \n",
        "        rev = rev*10 + n%10    \n",
        "        return reverse(n//10)\n",
        "\n",
        "print(f\"Reverse is: {reverse(n)}\")\n",
        "\n",
        "#def reverse(n):\n",
        "#    global rev\n",
        "#    if (n>0):\n",
        "#        rev = rev*10 + n%10\n",
        "#        reverse(n//10)\n",
        "#    return rev"
      ],
      "metadata": {
        "colab": {
          "base_uri": "https://localhost:8080/"
        },
        "id": "okiJBhgoHb7-",
        "outputId": "db75377e-8131-4166-9b1e-a0eef847baaf"
      },
      "execution_count": 29,
      "outputs": [
        {
          "output_type": "stream",
          "name": "stdout",
          "text": [
            "enter no: 5\n",
            "Reverse is: 5\n"
          ]
        }
      ]
    },
    {
      "cell_type": "markdown",
      "source": [
        "## Palindrome no. 121 1441 1223221 111\n",
        "Approach 1: using loop"
      ],
      "metadata": {
        "id": "SCU9gFYnqsuP"
      }
    },
    {
      "cell_type": "code",
      "source": [
        "dig = int(input(\"enter digit of a no: \"))\n",
        "n = int(input(\"enter a num: \"))\n",
        "temp = n # putting n value to temp variable as n value changes while performing loop\n",
        "rev = 0\n",
        "for i in range(0,dig):\n",
        "    rem = n%10\n",
        "    rev = rev*10 + rem\n",
        "    n = n//10\n",
        "\n",
        "if (temp==rev):\n",
        "    print(\"yes palindrome\")\n",
        "else:\n",
        "    print(\"not a palindrome\")    "
      ],
      "metadata": {
        "colab": {
          "base_uri": "https://localhost:8080/"
        },
        "id": "Xh3VIC5UrAvO",
        "outputId": "8fd93977-83e2-44b9-d6d5-6d97064b960b"
      },
      "execution_count": 58,
      "outputs": [
        {
          "output_type": "stream",
          "name": "stdout",
          "text": [
            "enter digit of a no: 3\n",
            "enter a num: 121\n",
            "yes palindrome\n"
          ]
        }
      ]
    },
    {
      "cell_type": "code",
      "source": [],
      "metadata": {
        "id": "7wVIuIH_r9fe"
      },
      "execution_count": null,
      "outputs": []
    }
  ]
}
